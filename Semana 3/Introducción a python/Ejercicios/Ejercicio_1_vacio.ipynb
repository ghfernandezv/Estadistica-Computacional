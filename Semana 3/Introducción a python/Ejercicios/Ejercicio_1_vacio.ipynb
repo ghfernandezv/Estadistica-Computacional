{
  "cells": [
    {
      "cell_type": "markdown",
      "metadata": {
        "deletable": false,
        "editable": false,
        "id": "00aVuZsTM0wf",
        "nbgrader": {
          "cell_type": "markdown",
          "checksum": "8fc1c9945370a7ee9b320df8cdc20253",
          "grade": false,
          "grade_id": "cell-bcc39ccd2dbfe132",
          "locked": true,
          "schema_version": 3,
          "solution": false,
          "task": false
        }
      },
      "source": [
        "# Ejercicios de introducción a python\n",
        "\n",
        "A lo largo de esta introducción, completarás varias mini-tareas autoevaluadas diseñadas para probar tu comprensión de los casos anteriores.\n",
        "\n",
        "**Instrucciones**\n",
        "\n",
        "Los ejercicios requerirán que escribas fragmentos simples de código. Para completar esta parte, te recomendamos que sigas estas instrucciones:\n",
        "\n",
        "1. Completa las funciones proporcionadas en este cuaderno, pero **no** cambies el nombre de la función ni el nombre(s) del(los) argumento(s). Si lo haces, el evaluador automático fallará y no recibirás ningún punto.\n",
        "2. Ejecuta todas las celdas de definición de funciones antes de ejecutar las celdas de prueba. ¡Las funciones deben existir antes de ser evaluadas!\n",
        "3. Lee atentamente las docstrings de las funciones. Contienen información adicional sobre cómo debería verse el código (una [docstring](https://www.datacamp.com/community/tutorials/docstrings-python) es el texto que aparece entre las comillas triples).\n",
        "4. Algunas funciones pueden requerir varios resultados (las docstrings te dicen cuáles). Asegúrate de que se devuelvan en el orden correcto.\n",
        "\n",
        "**¿Cómo funcionan las funciones?**\n",
        "\n",
        "Ya viste algunas funciones de Python en el módulo de repaso anterior. Aquí tienes un recordatorio de algunas cosas que debes tener en cuenta:\n",
        "\n",
        "1. Escribe tu código como lo harías normalmente, solo que esta vez escríbelo dentro de la función justo debajo del comentario `### TU CÓDIGO AQUÍ` comment.\n",
        "2. Las funciones usualmente comienzan con la palabra clave `def` y terminan con `return` `some_variable`. No modifiques ninguna de estas. Si simplemente escribes tu código como explicamos anteriormente, estarás bien.\n",
        "3. El código que escribas debe estar indentado.\n",
        "4. La docstring te informa el nombre de la variable que tendrás que devolver. La declaración `return` te proporciona esta información también. Así que, si por ejemplo, la función dice `return fancy_dict`, debes asegurarte de que la variable que defines como tu resultado también se llame `fancy_dict.\n",
        "\n",
        "Aquí tienes un par de preguntas de ejemplo ya resueltas:"
      ]
    },
    {
      "cell_type": "markdown",
      "metadata": {
        "deletable": false,
        "editable": false,
        "id": "F1BKGVFIM0wh",
        "nbgrader": {
          "cell_type": "markdown",
          "checksum": "d64eab9b540f9e785558c1056f803cda",
          "grade": false,
          "grade_id": "cell-ca9118682ef4b41d",
          "locked": true,
          "schema_version": 3,
          "solution": false,
          "task": false
        }
      },
      "source": [
        "### Ejemplo 1\n",
        "\n",
        "Escribe un código que tome un valor numérico, lo multiplique por sí mismo y luego devuelva el resultado."
      ]
    },
    {
      "cell_type": "code",
      "execution_count": null,
      "metadata": {
        "deletable": false,
        "editable": false,
        "id": "wpW3vnk3M0wi",
        "nbgrader": {
          "cell_type": "code",
          "checksum": "c238964438660e68ef405336817ab709",
          "grade": false,
          "grade_id": "cell-f3ca26fde02c0ad5",
          "locked": true,
          "schema_version": 3,
          "solution": false,
          "task": false
        }
      },
      "outputs": [],
      "source": [
        "def example_1(input_integer):\n",
        "    \"\"\"\n",
        "    Esta es una docstring. Las docstrings están escritas en inglés simple\n",
        "    (no son código) y están destinadas a ayudarte a recordar\n",
        "    lo que hace tu función. En este caso, esta función\n",
        "    asigna `input_integer` a una variable, lo multiplica por sí mismo,\n",
        "    y luego devuelve el resultado. Toma un entero como entrada.\n",
        "\n",
        "    Nota: De ahora en adelante, utilizaremos el símbolo ` para encerrar palabras\n",
        "    que son nombres de variables, como acabamos de hacer con `input_integer`\n",
        "    \"\"\"\n",
        "    result = input_integer * input_integer\n",
        "    return result"
      ]
    },
    {
      "cell_type": "markdown",
      "metadata": {
        "deletable": false,
        "editable": false,
        "id": "r54CxHZOM0wj",
        "nbgrader": {
          "cell_type": "markdown",
          "checksum": "72c6756ee0a8784b81bf12d26d3f52dd",
          "grade": false,
          "grade_id": "cell-486ecc6a9690fe63",
          "locked": true,
          "schema_version": 3,
          "solution": false,
          "task": false
        }
      },
      "source": [
        "Puedes verificar que tu función funciona llamándola de la siguiente manera:"
      ]
    },
    {
      "cell_type": "code",
      "execution_count": null,
      "metadata": {
        "colab": {
          "base_uri": "https://localhost:8080/"
        },
        "deletable": false,
        "editable": false,
        "id": "X39GBU_qM0wk",
        "nbgrader": {
          "cell_type": "code",
          "checksum": "d0abe050b5459f2ee6b7637e8910e656",
          "grade": false,
          "grade_id": "cell-ce0ac0796faf81ec",
          "locked": true,
          "schema_version": 3,
          "solution": false,
          "task": false
        },
        "outputId": "3904e7d0-1704-4344-aa58-30330b602aa0"
      },
      "outputs": [
        {
          "data": {
            "text/plain": [
              "16"
            ]
          },
          "execution_count": 2,
          "metadata": {},
          "output_type": "execute_result"
        }
      ],
      "source": [
        "example_1(4)"
      ]
    },
    {
      "cell_type": "markdown",
      "metadata": {
        "deletable": false,
        "editable": false,
        "id": "iyTvSpwzM0wl",
        "nbgrader": {
          "cell_type": "markdown",
          "checksum": "ad067bbea83550b756b5fa38de5c97aa",
          "grade": false,
          "grade_id": "cell-c115c6f41789d515",
          "locked": true,
          "schema_version": 3,
          "solution": false,
          "task": false
        }
      },
      "source": [
        "### Ejemplo 2\n",
        "\n",
        "Escribe un código que tome cualquier valor entero, lo sume a su propio valor dividido por 10, y devuelva el resultado."
      ]
    },
    {
      "cell_type": "code",
      "execution_count": null,
      "metadata": {
        "deletable": false,
        "editable": false,
        "id": "XyXCIN9-M0wl",
        "nbgrader": {
          "cell_type": "code",
          "checksum": "d6458ee31e6557237affbdc4f1ebf0d7",
          "grade": false,
          "grade_id": "cell-42e5c52ee61ab873",
          "locked": true,
          "schema_version": 3,
          "solution": false,
          "task": false
        }
      },
      "outputs": [],
      "source": [
        "def example_2(input_number):\n",
        "    \"\"\"\n",
        "    Toma un entero, súmalo a su propio valor dividido por 10,\n",
        "    y devuelve el resultado.\n",
        "\n",
        "    Argumentos: (Los argumentos son las entradas que pasas a tu función)\n",
        "    `input_number`: Un entero\n",
        "    \"\"\"\n",
        "    result = input_number + (input_number/10)\n",
        "    return result"
      ]
    },
    {
      "cell_type": "markdown",
      "metadata": {
        "deletable": false,
        "editable": false,
        "id": "N1sFzTsZM0wl",
        "nbgrader": {
          "cell_type": "markdown",
          "checksum": "a092eb75b8fce36ec1e5eb63714b29cf",
          "grade": false,
          "grade_id": "cell-5e27520e693549f6",
          "locked": true,
          "schema_version": 3,
          "solution": false,
          "task": false
        }
      },
      "source": [
        "And checking:"
      ]
    },
    {
      "cell_type": "code",
      "execution_count": null,
      "metadata": {
        "deletable": false,
        "editable": false,
        "id": "yrc1FS8oM0wl",
        "nbgrader": {
          "cell_type": "code",
          "checksum": "490b2aa0edee3db64ad668cdb5468b43",
          "grade": false,
          "grade_id": "cell-47d74e48784f6004",
          "locked": true,
          "schema_version": 3,
          "solution": false,
          "task": false
        },
        "outputId": "54bad75d-69f4-4039-b753-5dec809e01cd"
      },
      "outputs": [
        {
          "data": {
            "text/plain": [
              "110.0"
            ]
          },
          "execution_count": 4,
          "metadata": {},
          "output_type": "execute_result"
        }
      ],
      "source": [
        "example_2(100)"
      ]
    },
    {
      "cell_type": "markdown",
      "metadata": {
        "deletable": false,
        "editable": false,
        "id": "rCtTy6PwM0wm",
        "nbgrader": {
          "cell_type": "markdown",
          "checksum": "33141117a23a198fb20fef495e19b365",
          "grade": false,
          "grade_id": "cell-e309975d867b36ff",
          "locked": true,
          "schema_version": 3,
          "solution": false,
          "task": false
        }
      },
      "source": [
        "¿Listo? ¡Aquí vienen las preguntas de codificación!"
      ]
    },
    {
      "cell_type": "markdown",
      "metadata": {
        "deletable": false,
        "editable": false,
        "id": "ywQkZ6I7M0wm",
        "nbgrader": {
          "cell_type": "markdown",
          "checksum": "4c4038c399859ad6ba5fa4d60f890eca",
          "grade": false,
          "grade_id": "cell-cd23e7adeb16c4ee",
          "locked": true,
          "schema_version": 3,
          "solution": false,
          "task": false
        }
      },
      "source": [
        "### Ejercicio 1\n",
        "\n",
        "Escribe un código que encuentre el producto de 4 números y lo devuelva."
      ]
    },
    {
      "cell_type": "code",
      "execution_count": 1,
      "metadata": {
        "deletable": false,
        "id": "n_DSmvacM0wm",
        "nbgrader": {
          "cell_type": "code",
          "checksum": "ec05cd03c34fde20b361f12fe38564d6",
          "grade": false,
          "grade_id": "cell-6da7fa29a659afd3",
          "locked": false,
          "schema_version": 3,
          "solution": true,
          "task": false
        }
      },
      "outputs": [],
      "source": [
        "def multiply_these_numbers(a,b,c,d):\n",
        "    \"\"\"Multiplica `a`, `b`, `c` y `d`\n",
        "    y devuelve el producto como la variable `result`.\n",
        "\n",
        "    Argumentos: (Los argumentos son las entradas que pasas a tu función)\n",
        "    `a`, `b`, `c` y `d`: Un entero\n",
        "    \"\"\"\n",
        "    # TU CÓDIGO AQUÍ\n",
        "    raise NotImplementedError() # Elimina esta línea cuando ingreses tu solución\n",
        "    return result"
      ]
    },
    {
      "cell_type": "markdown",
      "metadata": {
        "deletable": false,
        "editable": false,
        "id": "LwnG5IsDM0wm",
        "nbgrader": {
          "cell_type": "markdown",
          "checksum": "2f01aa0fb0955490fdc11d821189bc57",
          "grade": false,
          "grade_id": "cell-d21a20a5e79b5266",
          "locked": true,
          "schema_version": 3,
          "solution": false,
          "task": false
        }
      },
      "source": [
        "### Ejercicio 2\n",
        "\n",
        "Escribe un código que sume (concatene) 3 cadenas de texto diferentes y devuelva el resultado."
      ]
    },
    {
      "cell_type": "code",
      "execution_count": 2,
      "metadata": {
        "deletable": false,
        "id": "zMeBx7qIM0wm",
        "nbgrader": {
          "cell_type": "code",
          "checksum": "6c8dc413c93280c58d18e9c89d1d3b01",
          "grade": false,
          "grade_id": "cell-b74d0ff90247b40b",
          "locked": false,
          "schema_version": 3,
          "solution": true,
          "task": false
        }
      },
      "outputs": [],
      "source": [
        "def add_these_strings(string1, string2, string3):\n",
        "    \"\"\"\n",
        "    Concadena `string1`, `string2` y `string3`.\n",
        "\n",
        "    Dado que los argumentos son cadenas de texto, deben estar rodeados\n",
        "    por comillas cuando los pases como entradas. Así que, por ejemplo,\n",
        "    llamarías (ejecutarías) esta función así:\n",
        "\n",
        "    add_these_strings(\"texto uno\", \"texto dos\", \"texto tres\")\n",
        "\n",
        "    Tu función no debería agregar espacios innecesarios. La salida de la\n",
        "    llamada anterior debería ser\n",
        "\n",
        "    \"texto unotexto dostexto tres\"\n",
        "\n",
        "    y NO\n",
        "\n",
        "    \"texto uno texto dos texto tres\"\n",
        "    \"\"\"\n",
        "    # TU CÓDIGO AQUÍ\n",
        "    raise NotImplementedError() # Elimina esta línea cuando ingreses tu solución\n",
        "    return result"
      ]
    },
    {
      "cell_type": "markdown",
      "metadata": {
        "deletable": false,
        "editable": false,
        "id": "scdo29sQM0wn",
        "nbgrader": {
          "cell_type": "markdown",
          "checksum": "041bb2ffe5f54db0972fdbc41079396d",
          "grade": false,
          "grade_id": "cell-e4342c8bdb5ec2df",
          "locked": true,
          "schema_version": 3,
          "solution": false,
          "task": false
        }
      },
      "source": [
        "### Ejercicio 3\n",
        "\n",
        "Escribe un código que tome un número originalmente formateado como una cadena de texto, lo divida por la longitud de la cadena original y devuelva el resultado."
      ]
    },
    {
      "cell_type": "code",
      "execution_count": 3,
      "metadata": {
        "deletable": false,
        "id": "0vBfr_fuM0wn",
        "nbgrader": {
          "cell_type": "code",
          "checksum": "370bd1c2e71a9355948a4d2d7c63fb75",
          "grade": false,
          "grade_id": "cell-466de4b7eb3a9f70",
          "locked": false,
          "schema_version": 3,
          "solution": true,
          "task": false
        }
      },
      "outputs": [],
      "source": [
        "def number_gymnastics(number_as_string):\n",
        "    \"\"\"\n",
        "    Toma un número originalmente formateado como una cadena de texto,\n",
        "    luego divídelo por la longitud de la cadena original.\n",
        "\n",
        "    Argumentos:\n",
        "    `number_as_string`: Un número, solo que está formateado como una cadena de texto.\n",
        "    Por ejemplo: En lugar de pasar 15, pasas \"15\"\n",
        "    (rodeado de comillas)\n",
        "\n",
        "    Salida:\n",
        "    `result`: Un número.\n",
        "\n",
        "    Ejemplo:\n",
        "    Si llamas a number_gymnastics(\"14\"),\n",
        "    la salida debería ser el número 7.0, porque\n",
        "    14 dividido por 2 (la longitud de la cadena \"14\") es igual\n",
        "    al número 7.0\n",
        "    \"\"\"\n",
        "    # TU CÓDIGO AQUÍ\n",
        "    raise NotImplementedError() # Elimina esta línea cuando ingreses tu solución\n",
        "    return result"
      ]
    },
    {
      "cell_type": "markdown",
      "metadata": {
        "deletable": false,
        "editable": false,
        "id": "_2r2SFAkM0wn",
        "nbgrader": {
          "cell_type": "markdown",
          "checksum": "240db28956e0bd4542110e186aabe180",
          "grade": false,
          "grade_id": "cell-901fcede6611476f",
          "locked": true,
          "schema_version": 3,
          "solution": false,
          "task": false
        }
      },
      "source": [
        "## Celdas de prueba\n",
        "\n",
        "Ejecuta las celdas a continuación para verificar tus respuestas. Asegúrate de ejecutar primero tus celdas de solución antes de ejecutar las celdas a continuación, de lo contrario, recibirás un `NameError` al verificar tus respuestas."
      ]
    },
    {
      "cell_type": "code",
      "execution_count": null,
      "metadata": {
        "deletable": false,
        "editable": false,
        "id": "gzb1iztwM0wn",
        "nbgrader": {
          "cell_type": "code",
          "checksum": "9e136e9938f478b0c260781e9922637a",
          "grade": true,
          "grade_id": "cell-e3ff00e471bec774",
          "locked": true,
          "points": 1,
          "schema_version": 3,
          "solution": false,
          "task": false
        }
      },
      "outputs": [],
      "source": [
        "# Ex. 1\n",
        "assert multiply_these_numbers(1,2,3,4) == 24, \"Ej. 1 - Por favor, revisa tus cálculos! Recuerda que para multiplicar números en Python, usas el símbolo *\"\n",
        "assert multiply_these_numbers(2,3,4,5) == 120, \"Ej. 1 - ¡Por favor, revisa tus cálculos! Recuerda que para multiplicar números en Python, usas el símbolo *\"\n",
        "print(\"Ejercicio 1 parece correcto!\")"
      ]
    },
    {
      "cell_type": "code",
      "execution_count": null,
      "metadata": {
        "deletable": false,
        "editable": false,
        "id": "bQw3FQ23M0wn",
        "nbgrader": {
          "cell_type": "code",
          "checksum": "c5e9f1529ff647a33ee72695202ebc7a",
          "grade": true,
          "grade_id": "cell-c0480287df6d8dd5",
          "locked": true,
          "points": 1,
          "schema_version": 3,
          "solution": false,
          "task": false
        }
      },
      "outputs": [],
      "source": [
        "# Ex. 2\n",
        "assert add_these_strings(\"data\", \"is\", \"cool\") == \"dataiscool\", \"Ej. 2 - Probamos tu función, y la salida no es del todo correcta aún. Recuerda que para concatenar dos cadenas de texto, puedes usar el símbolo +.\"\n",
        "assert add_these_strings(\"I \", \"need \", \"space\") == \"I need space\", \"Ej. 2 - Probamos tu función y la salida aún no es del todo correcta. Recuerda que para concatenar dos cadenas de texto, puedes usar el símbolo +\"\n",
        "print(\"Ejercicio 2 parece correcto!\")"
      ]
    },
    {
      "cell_type": "code",
      "execution_count": null,
      "metadata": {
        "deletable": false,
        "editable": false,
        "id": "mpPIDYtIM0wn",
        "nbgrader": {
          "cell_type": "code",
          "checksum": "2fa835deaba641ac3e0c0e0fcc6bf279",
          "grade": true,
          "grade_id": "cell-bbb0af688a1c570a",
          "locked": true,
          "points": 1,
          "schema_version": 3,
          "solution": false,
          "task": false
        }
      },
      "outputs": [],
      "source": [
        "# Ex. 3\n",
        "assert number_gymnastics(\"270\") == 90, \"Ej. 3 - ¡Aún no está del todo correcto! Recuerda, primero transforma la entrada en cadena a un número (revisa la clase si necesitas un repaso sobre cómo hacerlo), y luego divídelo por la longitud de la cadena de entrada (nuevamente, consulta la clase para ver cómo encontrar la longitud)\"\n",
        "assert number_gymnastics(\"5\") == 5, \"Ej. 3 - ¡Aún no está del todo correcto! Recuerda, primero transforma la entrada en cadena a un número (revisa la clase si necesitas un repaso sobre cómo hacerlo), y luego divídelo por la longitud de la cadena de entrada (nuevamente, consulta la clase para ver cómo encontrar la longitud)\"\n",
        "print(\"Ejercicio 3 parece correcto!\")"
      ]
    }
  ],
  "metadata": {
    "colab": {
      "provenance": []
    },
    "kernelspec": {
      "display_name": "Python 3",
      "language": "python",
      "name": "python3"
    },
    "language_info": {
      "codemirror_mode": {
        "name": "ipython",
        "version": 3
      },
      "file_extension": ".py",
      "mimetype": "text/x-python",
      "name": "python",
      "nbconvert_exporter": "python",
      "pygments_lexer": "ipython3",
      "version": "3.8.8"
    }
  },
  "nbformat": 4,
  "nbformat_minor": 0
}

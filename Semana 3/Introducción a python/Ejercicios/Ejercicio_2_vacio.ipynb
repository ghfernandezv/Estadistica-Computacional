{
  "cells": [
    {
      "cell_type": "markdown",
      "metadata": {
        "deletable": false,
        "editable": false,
        "id": "J8oO70ffUG5G",
        "nbgrader": {
          "cell_type": "markdown",
          "checksum": "f01bf3a258251cf057ec8535b828cb8d",
          "grade": false,
          "grade_id": "cell-300ecd38889e9eff",
          "locked": true,
          "schema_version": 3,
          "solution": false,
          "task": false
        }
      },
      "source": [
        "# Ejercicios de introducción a python\n",
        "\n",
        "A lo largo de esta introducción, completarás varias mini-tareas autoevaluadas diseñadas para probar tu comprensión de los casos anteriores.\n",
        "\n",
        "**Instrucciones**\n",
        "\n",
        "Los ejercicios requerirán que escribas fragmentos simples de código. Para completar esta parte, te recomendamos que sigas estas instrucciones:\n",
        "\n",
        "1. Completa las funciones proporcionadas en este cuaderno, pero **no** cambies el nombre de la función ni el nombre(s) del(los) argumento(s). Si lo haces, el evaluador automático fallará y no recibirás ningún punto.\n",
        "2. Ejecuta todas las celdas de definición de funciones antes de ejecutar las celdas de prueba. ¡Las funciones deben existir antes de ser evaluadas!\n",
        "3. Lee atentamente las docstrings de las funciones. Contienen información adicional sobre cómo debería verse el código (una [docstring](https://www.datacamp.com/community/tutorials/docstrings-python) es el texto que aparece entre las comillas triples).\n",
        "4. Algunas funciones pueden requerir varios resultados (las docstrings te dicen cuáles). Asegúrate de que se devuelvan en el orden correcto.\n",
        "\n",
        "**¿Cómo funcionan las funciones?**\n",
        "\n",
        "Ya viste algunas funciones de Python en el módulo de repaso anterior. Aquí tienes un recordatorio de algunas cosas que debes tener en cuenta:\n",
        "\n",
        "1. Escribe tu código como lo harías normalmente, solo que esta vez escríbelo dentro de la función justo debajo del comentario `### TU CÓDIGO AQUÍ` comment.\n",
        "2. Las funciones usualmente comienzan con la palabra clave `def` y terminan con `return` `some_variable`. No modifiques ninguna de estas. Si simplemente escribes tu código como explicamos anteriormente, estarás bien.\n",
        "3. El código que escribas debe estar indentado.\n",
        "4. La docstring te informa el nombre de la variable que tendrás que devolver. La declaración `return` te proporciona esta información también. Así que, si por ejemplo, la función dice `return fancy_dict`, debes asegurarte de que la variable que defines como tu resultado también se llame `fancy_dict.\n",
        "\n",
        "Aquí tienes un par de preguntas de ejemplo ya resueltas:**Instructions**\n",
        "\n"
      ]
    },
    {
      "cell_type": "markdown",
      "metadata": {
        "id": "yLwWK1DTUG5I"
      },
      "source": [
        "# Ejercicio 1\n",
        "\n",
        "Convierta la siguiente lista de verificación en un diccionario. Los sistemas marcados con \"sí\" son propietarios, mientras que aquellos con \"no\" son de código abierto. Los nombres de los sistemas operativos deben ser las claves (cópielas exactamente). Utilice [booleanos](https://www.w3schools.com/python/python_booleans.asp) para los valores.\n",
        "\n",
        "> **Windows**: Yes; **Fire OS:** Yes; **macOS:** Yes; **Linux:** No; **Android:** No; **MS-DOS:** Yes."
      ]
    },
    {
      "cell_type": "code",
      "execution_count": null,
      "metadata": {
        "deletable": false,
        "id": "gqTqNOb2UG5J",
        "nbgrader": {
          "cell_type": "code",
          "checksum": "c3031ac732798e2e9e8228e4370bfcec",
          "grade": false,
          "grade_id": "cell-cf8a32275814aaf9",
          "locked": false,
          "schema_version": 3,
          "solution": true,
          "task": false
        }
      },
      "outputs": [],
      "source": [
        "def create_dictionary():\n",
        "    \"\"\"\n",
        "    Crear un diccionario.\n",
        "\n",
        "    Argumentos:\n",
        "    Ninguno.\n",
        "\n",
        "    Salido:\n",
        "    `my_dict`: Un diccionario.\n",
        "    \"\"\"\n",
        "\n",
        "    # TU CÓDIGO AQUÍ\n",
        "    raise NotImplementedError() # Elimina esta línea cuando ingreses tu solución\n",
        "    return my_dict"
      ]
    },
    {
      "cell_type": "markdown",
      "metadata": {
        "id": "rWVa3dPIUG5K"
      },
      "source": [
        "## Ejercicio 2\n",
        "\n",
        "En la función siguiente encontrará una definición de lista (`list_dup`). Escriba el código a:\n",
        "\n",
        "1. Elimine los valores duplicados.\n",
        "2. [Sort](https://www.programiz.com/python-programming/methods/list/sort#) los elementos de la lista en orden alfabético ascendente.\n",
        "\n",
        "La lista resultante debería llamarse `list_clean`.\n",
        "Elimina los valores duplicados.\n",
        "Ordene los elementos de la lista en orden alfabético ascendente.\n",
        "La lista resultante debería llamarse list_clean."
      ]
    },
    {
      "cell_type": "code",
      "execution_count": null,
      "metadata": {
        "deletable": false,
        "id": "v2aRGFZhUG5K",
        "nbgrader": {
          "cell_type": "code",
          "checksum": "efdd6601c18ab0f3f279ed5f2827c73d",
          "grade": false,
          "grade_id": "cell-fe7768571ff8d9de",
          "locked": false,
          "schema_version": 3,
          "solution": true,
          "task": false
        }
      },
      "outputs": [],
      "source": [
        "def remove_dups_and_sort():\n",
        "    \"\"\"\n",
        "    Elimina los duplicados en la lista a continuación y luego ordénala\n",
        "    alfabéticamente.\n",
        "\n",
        "    Argumentos:\n",
        "    Ninguno.\n",
        "\n",
        "    Salidas:\n",
        "    `list_clean`: Una lista de Python ordenada sin duplicados.\n",
        "    \"\"\"\n",
        "    list_dup = [\"Defeat\", \"Defeat\", \"Turn of phrase\", \"Bob\", \"Cannot\",\n",
        "                \"Eddy's\", \"Ana\", \"Bob\", \"Turn of phrase\", \"And\", \"Fantastic\",\n",
        "                \"Bob\", \"Turn of phrase\", \"Cannot\", \"Defeat\", \"Fantastic\", \"Eddy's\"]\n",
        "\n",
        "    # TU CÓDIGO AQUÍ\n",
        "    raise NotImplementedError() # Elimina esta línea cuando ingreses tu solución\n",
        "    return list_clean"
      ]
    },
    {
      "cell_type": "markdown",
      "metadata": {
        "deletable": false,
        "editable": false,
        "id": "BJ4PZg4NUG5M",
        "nbgrader": {
          "cell_type": "markdown",
          "checksum": "b80b0316cf0798ae52b9f2445d85486d",
          "grade": false,
          "grade_id": "cell-b00ba4097431cf94",
          "locked": true,
          "schema_version": 3,
          "solution": false,
          "task": false
        },
        "tags": [
          "5_min"
        ]
      },
      "source": [
        "## Ejercicio 3\n",
        "\n",
        "Codifica estas dos expresiones como conjuntos:\n",
        "\n",
        "$$ A = \\{1,2,3\\}$$\n",
        "\n",
        "$$ B = \\{2,3,4,5\\}$$\n",
        "\n",
        "Encuentra su intersección.\n",
        "\n",
        "**Sugerencia:** Recuerda el diagrama de Venn de una intersección:\n",
        "\n",
        "![intersection_two.png](data:image/png;base64,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)\n",
        "\n"
      ]
    },
    {
      "cell_type": "code",
      "execution_count": null,
      "metadata": {
        "deletable": false,
        "id": "3dfTbq1fUG5M",
        "nbgrader": {
          "cell_type": "code",
          "checksum": "50206b88b1c739b9a99e66fc13943e26",
          "grade": false,
          "grade_id": "cell-de3938e1c0457316",
          "locked": false,
          "schema_version": 3,
          "solution": true,
          "task": false
        }
      },
      "outputs": [],
      "source": [
        "def intersection_two_sets():\n",
        "    \"\"\"\n",
        "    Devuelve la intersección de los conjuntos A y B.\n",
        "\n",
        "    ArgumentOs:\n",
        "    Ninguno.\n",
        "\n",
        "    Outputs:\n",
        "    `inter` = Un conjunto de python.\n",
        "    \"\"\"\n",
        "\n",
        "    # TU CÓDIGO AQUÍ\n",
        "    raise NotImplementedError() # Elimina esta línea cuando ingreses tu solución\n",
        "\n",
        "    return inter"
      ]
    },
    {
      "cell_type": "markdown",
      "metadata": {
        "deletable": false,
        "editable": false,
        "id": "TPtdRYdmUG5M",
        "nbgrader": {
          "cell_type": "markdown",
          "checksum": "7f7a1b69d060db6fdaa2f35dcfbd4a9c",
          "grade": false,
          "grade_id": "cell-344225853ba0b2a3",
          "locked": true,
          "schema_version": 3,
          "solution": false,
          "task": false
        }
      },
      "source": [
        "## Ejercicio 4\n",
        "\n",
        "Haz lo mismo que en el Ejercicio 3, pero en lugar de encontrar la intersección de $A$ y $B$, encuentra su unión.\n",
        "\n",
        "**Sugerencia:** Recuerda el diagrama de Venn de una unión:\n",
        "\n",
        "![union.png](data:image/png;base64,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)\n"
      ]
    },
    {
      "cell_type": "code",
      "execution_count": null,
      "metadata": {
        "deletable": false,
        "id": "yc28Dr69UG5M",
        "nbgrader": {
          "cell_type": "code",
          "checksum": "c3c437e42b0e21dcd5b93ab5991f099a",
          "grade": false,
          "grade_id": "cell-9ab79188a11089ba",
          "locked": false,
          "schema_version": 3,
          "solution": true,
          "task": false
        }
      },
      "outputs": [],
      "source": [
        "def union_two_sets():\n",
        "    \"\"\"\n",
        "    Return the union of sets A and B.\n",
        "\n",
        "    Arguments:\n",
        "    None.\n",
        "\n",
        "    Outputs:\n",
        "    `uni` = A Python set.\n",
        "    \"\"\"\n",
        "\n",
        "    # TU CÓDIGO AQUÍ\n",
        "    raise NotImplementedError() # Elimina esta línea cuando ingreses tu solución\n",
        "    return uni"
      ]
    },
    {
      "cell_type": "markdown",
      "metadata": {
        "deletable": false,
        "editable": false,
        "id": "a7zKkWwtUG5M",
        "nbgrader": {
          "cell_type": "markdown",
          "checksum": "240db28956e0bd4542110e186aabe180",
          "grade": false,
          "grade_id": "cell-901fcede6611476f",
          "locked": true,
          "schema_version": 3,
          "solution": false,
          "task": false
        }
      },
      "source": [
        "## Celdas de prueba\n",
        "\n",
        "Ejecuta las celdas a continuación para verificar tus respuestas. Asegúrate de ejecutar primero tus celdas de solución antes de ejecutar las celdas a continuación, de lo contrario, recibirás un `NameError` al verificar tus respuestas."
      ]
    },
    {
      "cell_type": "code",
      "execution_count": null,
      "metadata": {
        "deletable": false,
        "editable": false,
        "id": "ZVJoXqdlUG5N",
        "nbgrader": {
          "cell_type": "code",
          "checksum": "e6169d66f376a7d098f70be64c8258f8",
          "grade": true,
          "grade_id": "cell-cddcdf1ee0f8427d",
          "locked": true,
          "points": 1,
          "schema_version": 3,
          "solution": false,
          "task": false
        }
      },
      "outputs": [],
      "source": [
        "# Ej 1\n",
        "assert type(create_dictionary()) == type({\"key\":\"value\"}), \"Ej. 1 - Your output is not a dictionary! Check case 0.3 if you need to review the syntax to create a dictionary in Python.\"\n",
        "assert ['Android', 'Fire OS', 'Linux', 'MS-DOS', 'Windows', 'macOS'] == sorted(list(create_dictionary())), \"Ej. 1 - Are you sure your dictionary has all the correct keys? Review the last part of case 0.3 to review how to create dictionaries in Python.\"\n",
        "assert create_dictionary()[\"Windows\"] == True, \"Ej. 1 - Check your results! Windows is not open-source!\"\n",
        "assert create_dictionary()[\"macOS\"] == True, \"Ej. 1 - Check your results! macOS is not open-source!\"\n",
        "assert create_dictionary()[\"Fire OS\"] == True, \"Ej. 1 - Check your results! Fire OS is not open-source!\"\n",
        "assert create_dictionary()[\"MS-DOS\"] == True, \"Ej. 1 - Check your results! MS-DOS is not open-source!\"\n",
        "assert create_dictionary()[\"Android\"] == False, \"Ej. 1 - Check your results! Android is open-source!\"\n",
        "assert create_dictionary()[\"Linux\"] == False, \"Ej. 1 - Check your results! Linux is open-source!\"\n",
        "print(\"\"Ejercicio 1 parece correcto!\")"
      ]
    },
    {
      "cell_type": "code",
      "execution_count": null,
      "metadata": {
        "deletable": false,
        "editable": false,
        "id": "woOt2k8GUG5N",
        "nbgrader": {
          "cell_type": "code",
          "checksum": "0260afd50e9ea022d1869781c415bd23",
          "grade": true,
          "grade_id": "cell-6dd78b37092571c6",
          "locked": true,
          "points": 1,
          "schema_version": 3,
          "solution": false,
          "task": false
        }
      },
      "outputs": [],
      "source": [
        "# Ej 2\n",
        "assert type(remove_dups_and_sort()) == type([1,2,3]), \"Ej. 2 - Are you sure your output is of type 'list'? You can check with type(). Remember that to convert a set into a list, you can use this code: list(my_set)\"\n",
        "assert not len(remove_dups_and_sort()) > 8, \"Ej. 2 - Are you sure you removed the duplicates from your list? See the cheat sheet in case 0.3 to learn how to easily remove them!\"\n",
        "assert not len(remove_dups_and_sort()) < 8, \"Ej. 2 - It appears you removed too many elements from your list. See the cheat sheet in case 0.3 to learn how to easily remove duplicates!\"\n",
        "assert remove_dups_and_sort() == ['Ana', 'And', 'Bob', 'Cannot', 'Defeat', \"Eddy's\", 'Fantastic', 'Turn of phrase'], \"Ej. 2 - Your list isn't sorted or has duplicates! See the cheat sheet in case 0.3 to learn how to easily remove duplicates!\"\n",
        "print(\"\"Ejercicio 2 parece correcto!\")"
      ]
    },
    {
      "cell_type": "code",
      "execution_count": null,
      "metadata": {
        "deletable": false,
        "editable": false,
        "id": "91X8opHGUG5N",
        "nbgrader": {
          "cell_type": "code",
          "checksum": "38ca0fcf378734f608f179aa36b5056d",
          "grade": true,
          "grade_id": "cell-f7b4f6072e6f9ae6",
          "locked": true,
          "points": 1,
          "schema_version": 3,
          "solution": false,
          "task": false
        }
      },
      "outputs": [],
      "source": [
        "# Ej 3\n",
        "assert type(intersection_two_sets()) == type(set()), \"Ej. 3 - Your result is not a set! You can check with type().\"\n",
        "assert len(list(intersection_two_sets())) == 2, \"Ej. 3 - Are you sure that your intersection contains the right elements? Remember that the set intersection operator is `&` (see the cheat sheet in case 0.3 for more information).\"\n",
        "assert sum(list(intersection_two_sets())) == 5, \"Ej. 3 - Are you sure that your intersection contains the right elements? Remember that the set intersection operator is `&` (see the cheat sheet in case 0.3 for more information).\"\n",
        "print(\"Ejercicio 3 parece correcto!\")"
      ]
    },
    {
      "cell_type": "code",
      "execution_count": null,
      "metadata": {
        "deletable": false,
        "editable": false,
        "id": "-XLsBD-bUG5N",
        "nbgrader": {
          "cell_type": "code",
          "checksum": "482b54e6f75b0a7c4d9a0411ccbf965c",
          "grade": true,
          "grade_id": "cell-b05bf733afe757c6",
          "locked": true,
          "points": 1,
          "schema_version": 3,
          "solution": false,
          "task": false
        }
      },
      "outputs": [],
      "source": [
        "# Ej 4\n",
        "assert type(union_two_sets()) == type(set()), \"Ej. 4 - Your result is not a set. You can check with type().\"\n",
        "assert len(list(union_two_sets())) == 5, \"Ej. 4 - Are you sure that your union contains the right elements? Remember that the set union operator is `|` (see the cheat sheet in case 0.3 for more information).\"\n",
        "assert sum(list(union_two_sets())) == 15, \"Ej. 4 - Are you sure that your intersection contains the right elements? Remember that the set union operator is `|` (see the cheat sheet in case 0.3 for more information).\"\n",
        "print(\"Ejercicio 4 parece correcto!\")"
      ]
    }
  ],
  "metadata": {
    "colab": {
      "provenance": []
    },
    "kernelspec": {
      "display_name": "Python 3",
      "language": "python",
      "name": "python3"
    },
    "language_info": {
      "codemirror_mode": {
        "name": "ipython",
        "version": 3
      },
      "file_extension": ".py",
      "mimetype": "text/x-python",
      "name": "python",
      "nbconvert_exporter": "python",
      "pygments_lexer": "ipython3",
      "version": "3.8.8"
    }
  },
  "nbformat": 4,
  "nbformat_minor": 0
}

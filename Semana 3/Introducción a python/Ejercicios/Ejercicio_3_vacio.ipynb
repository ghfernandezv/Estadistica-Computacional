{
 "cells": [
  {
   "cell_type": "markdown",
   "metadata": {
    "deletable": false,
    "editable": false,
    "nbgrader": {
     "cell_type": "markdown",
     "checksum": "b106b390bf501f1583e468dd18d055ba",
     "grade": false,
     "grade_id": "cell-b087c6569e4b11b7",
     "locked": true,
     "schema_version": 3,
     "solution": false,
     "task": false
    }
   },
   "source": [
    "# Ejercicio de introducción a Python"
   ]
  },
  {
   "cell_type": "markdown",
   "metadata": {
    "deletable": false,
    "editable": false,
    "nbgrader": {
     "cell_type": "markdown",
     "checksum": "4625a9e6c08c6c13805839140f11af29",
     "grade": false,
     "grade_id": "cell-5c56fd7d669debaf",
     "locked": true,
     "schema_version": 3,
     "solution": false,
     "task": false
    }
   },
   "source": [
    "# **Instrucciones**\n",
    "\n",
    "Para completar este módulo de revisión, te recomendamos seguir estas instrucciones:\n",
    "\n",
    "1. Completa las funciones proporcionadas en este notebook, pero **no** cambies el nombre de la función ni el nombre de los argumentos. Si lo haces, el autograder fallará y no recibirás ningún punto.\n",
    "2. Ejecuta todas las celdas donde se definen funciones antes de ejecutar las celdas de prueba. ¡Las funciones deben existir antes de ser evaluadas!\n",
    "3. Lee cuidadosamente los docstrings de las funciones. Contienen información adicional sobre cómo debe estructurarse el código (un [docstring](https://www.datacamp.com/community/tutorials/docstrings-python) es el texto que aparece entre triples comillas).\n",
    "4. Algunas funciones pueden requerir múltiples salidas (los docstrings te indicarán cuáles). Asegúrate de devolverlas en el orden correcto.\n",
    "\n",
    "## **¿Cómo funcionan las funciones?**\n",
    "\n",
    "Es posible que aún no hayas visto funciones en Python, pero no te preocupes, las cubriremos en un caso futuro. Por ahora, lo principal que necesitas saber es:\n",
    "\n",
    "1. Escribe tu código como lo harías normalmente, solo que esta vez dentro de la función justo debajo del comentario `### Your code here`.\n",
    "2. Las funciones generalmente comienzan con la palabra clave `def` y terminan con `return some_variable`. No modifiques ninguna de estas estructuras. Si escribes tu código como se explicó anteriormente, todo estará bien.\n",
    "3. El código dentro de la función debe estar indentado correctamente.\n",
    "4. El docstring te indicará el nombre de la variable que debes devolver. La declaración `return` también proporciona esta información. Por ejemplo, si la función dice `return fancy_dict`, asegúrate de que la variable que defines como resultado también se llame `fancy_dict`.\n"
   ]
  },
  {
   "cell_type": "markdown",
   "metadata": {
    "deletable": false,
    "editable": false,
    "nbgrader": {
     "cell_type": "markdown",
     "checksum": "5462d89cabde66d648c16c02dc30dcb1",
     "grade": false,
     "grade_id": "cell-b61a2ef683902693",
     "locked": true,
     "schema_version": 3,
     "solution": false,
     "task": false
    },
    "tags": [
     "3_min"
    ]
   },
   "source": [
    "## Ejercicio 1\n",
    "\n",
    "A continuación, se describe un proceso burocrático ficticio. Transfórmalo en un bloque de declaraciones condicionales.\n",
    "\n",
    "> Para calificar para los beneficios, debes tener al menos 18 años y ser ciudadano o residente permanente. Las personas que ganan más de 50,000 dólares al año no son elegibles.\n",
    "\n",
    "No olvides que tu variable de resultado debe llamarse `eligible`.\n",
    "\n",
    "## **Pistas:**\n",
    "\n",
    "1. Si te resulta difícil seguir las condiciones, siempre puedes dibujar un árbol de decisión.\n",
    "2. Para comprobar si al menos una de dos condiciones es verdadera, puedes usar lógica booleana.\n"
   ]
  },
  {
   "cell_type": "code",
   "execution_count": null,
   "metadata": {
    "deletable": false,
    "nbgrader": {
     "cell_type": "code",
     "checksum": "afab062aadc08a383d98bd418e93a825",
     "grade": false,
     "grade_id": "cell-ffff28d23d4fd7bb",
     "locked": false,
     "schema_version": 3,
     "solution": true,
     "task": false
    }
   },
   "outputs": [],
   "source": [
    "def benefit_screening(applicant):\n",
    "    \"\"\"\n",
    "    Determina si un solicitante es elegible para un beneficio gubernamental.\n",
    "    \n",
    "    Argumentos:\n",
    "    `applicant`: Una lista de Python con toda la información relevante.\n",
    "    \n",
    "    Salida:\n",
    "    `eligible`: Un valor booleano de Python.\n",
    "    \n",
    "    Ejemplo:\n",
    "    Dado el argumento [22, False, True, 45000],\n",
    "    la variable de salida `eligible` tendría un valor de `True`\n",
    "    \n",
    "    \"\"\"\n",
    "    \n",
    "    age = applicant[0]\n",
    "    citizen = applicant[1]\n",
    "    resident = applicant[2]\n",
    "    income = applicant[3]\n",
    "       \n",
    "    \n",
    "    # TU CÓDIGO AQUÍ\n",
    "    raise NotImplementedError() # Elimina esta línea cuando ingreses tu solución\n",
    "    \n",
    "    return eligible\n"
   ]
  },
  {
   "cell_type": "markdown",
   "metadata": {
    "deletable": false,
    "editable": false,
    "nbgrader": {
     "cell_type": "markdown",
     "checksum": "cdf9755414e21878a5f1e710fc96da45",
     "grade": false,
     "grade_id": "cell-3d7b3938c856101c",
     "locked": true,
     "schema_version": 3,
     "solution": false,
     "task": false
    }
   },
   "source": [
    "Para probar tu función, puedes ejecutar este código (puedes modificar los valores en la lista a tu gusto):"
   ]
  },
  {
   "cell_type": "code",
   "execution_count": null,
   "metadata": {},
   "outputs": [],
   "source": [
    "applicant_no_1 = [17,False,True,5000] # Age, Citizen, Resident, Income\n",
    "benefit_screening(applicant_no_1)"
   ]
  },
  {
   "cell_type": "markdown",
   "metadata": {
    "deletable": false,
    "editable": false,
    "nbgrader": {
     "cell_type": "markdown",
     "checksum": "f5c777bd3a2a270f166e980e25e93608",
     "grade": false,
     "grade_id": "cell-c3410ae9f622ef82",
     "locked": true,
     "schema_version": 3,
     "solution": false,
     "task": false
    },
    "tags": [
     "7_min"
    ]
   },
   "source": [
    "## Ejercicio 2\n",
    "\n",
    "Completa la siguiente función. Escribe las condiciones para que si la entrada `number` es par, la variable de salida `is_even` se establezca en `True`. Si la entrada no es par, `is_even` se establecerá en `False`.\n",
    "\n",
    "## **Pistas:**\n",
    "\n",
    "1. Un número es par si, al dividirlo por 2, el residuo es igual a 0.\n",
    "2. Para encontrar el residuo de una división en Python, puedes usar el operador [**módulo**](https://www.freecodecamp.org/news/the-python-modulo-operator-what-does-the-symbol-mean-in-python-solved/). Así: `a % b`.\n"
   ]
  },
  {
   "cell_type": "code",
   "execution_count": null,
   "metadata": {
    "deletable": false,
    "nbgrader": {
     "cell_type": "code",
     "checksum": "785fbd6bb14bfef944d8fa5280682aca",
     "grade": false,
     "grade_id": "cell-17df40f0291a6753",
     "locked": false,
     "schema_version": 3,
     "solution": true,
     "task": false
    }
   },
   "outputs": [],
   "source": [
    "def is_this_number_even(number):\n",
    "    \"\"\"\n",
    "    Determina si `number` es par.\n",
    "    \n",
    "    Argumentos:\n",
    "    `number`: Un número entero.\n",
    "    \n",
    "    Salida:\n",
    "    `is_even`: Un valor booleano de Python.\n",
    "    \n",
    "    Ejemplo:\n",
    "    Dada la entrada 3, la salida debería ser `False`.\n",
    "    \"\"\"\n",
    "    \n",
    "    # TU CÓDIGO AQUÍ\n",
    "    raise NotImplementedError() # Elimina esta línea cuando ingreses tu solución\n",
    "    \n",
    "    return is_even"
   ]
  },
  {
   "cell_type": "markdown",
   "metadata": {
    "deletable": false,
    "editable": false,
    "nbgrader": {
     "cell_type": "markdown",
     "checksum": "0766abddce2ef8a62c3dbfc97f879098",
     "grade": false,
     "grade_id": "cell-14d20387d9f0aa35",
     "locked": true,
     "schema_version": 3,
     "solution": false,
     "task": false
    },
    "tags": [
     "5_min"
    ]
   },
   "source": [
    "## Ejercicio 3\n",
    "\n",
    "Reescribe este bloque condicional utilizando declaraciones `elif`:\n",
    "\n",
    "~~~python\n",
    "if my_dict[\"color\"] == \"brown\":\n",
    "    out = \"Chocolate\"\n",
    "else:\n",
    "    if my_dict[\"color\"] == \"red\":\n",
    "        out = \"Strawberries\"\n",
    "    else:\n",
    "        if my_dict[\"color\"] == \"green\":\n",
    "            out = \"Avocado\"\n",
    "        else:\n",
    "            out = \"Unknown food\"        \n",
    "~~~"
   ]
  },
  {
   "cell_type": "code",
   "execution_count": null,
   "metadata": {
    "deletable": false,
    "nbgrader": {
     "cell_type": "code",
     "checksum": "fb307d25b3ae37175520399164aa50e3",
     "grade": false,
     "grade_id": "cell-fba7cf3b3a00d32d",
     "locked": false,
     "schema_version": 3,
     "solution": true,
     "task": false
    }
   },
   "outputs": [],
   "source": [
    "def rewrite_conditional(my_dict):\n",
    "    \"\"\"\n",
    "    Reescribe un bloque condicional.\n",
    "    \n",
    "    Argumentos:\n",
    "    `my_dict`: Un diccionario de Python.\n",
    "    \n",
    "    Salida:\n",
    "    `out`: Una cadena de texto en Python.\n",
    "    \n",
    "    Ejemplo:\n",
    "    Dada la entrada {\"color\":\"red\"},\n",
    "    la salida debería ser la cadena \"Strawberries\".\n",
    "    \"\"\"\n",
    "    \n",
    "    # TU CÓDIGO AQUÍ\n",
    "    raise NotImplementedError() # Elimina esta línea cuando ingreses tu solución\n",
    "    return out\n"
   ]
  },
  {
   "cell_type": "markdown",
   "metadata": {
    "deletable": false,
    "editable": false,
    "nbgrader": {
     "cell_type": "markdown",
     "checksum": "e6b9e904f350220b520bce21e7eb764d",
     "grade": false,
     "grade_id": "cell-57d7f6473509654c",
     "locked": true,
     "schema_version": 3,
     "solution": false,
     "task": false
    }
   },
   "source": [
    "## Celdas de Prueba\n",
    "\n",
    "Ejecuta las siguientes celdas para verificar tus respuestas. Asegúrate de ejecutar primero las celdas donde escribiste tu solución antes de ejecutar las celdas de prueba, de lo contrario, obtendrás un `NameError` al comprobar tus respuestas."
   ]
  },
  {
   "cell_type": "code",
   "execution_count": null,
   "metadata": {
    "deletable": false,
    "editable": false,
    "nbgrader": {
     "cell_type": "code",
     "checksum": "a4469d52f9f4a823428f105fe83c7e85",
     "grade": true,
     "grade_id": "cell-e8b54fc508af9f32",
     "locked": true,
     "points": 1,
     "schema_version": 3,
     "solution": false,
     "task": false
    }
   },
   "outputs": [],
   "source": [
    "# Ejercicio 1\n",
    "applicant = [15, True, True, 1]\n",
    "assert type(benefit_screening(applicant)) == type(True), \"Ej. 1 - ¡Tu salida no parece ser un booleano! Puedes verificarlo con type().\"\n",
    "assert benefit_screening(applicant) == False, \"Ej. 1 - Uno o más de tus condicionales parecen estar incorrectos. ¿Quizás tu condicional de edad?\"\n",
    "applicant = [20, False, False, 1]\n",
    "assert benefit_screening(applicant) == False, \"Ej. 1 - Uno o más de tus condicionales parecen estar incorrectos. ¿Quizás tu condicional de ciudadanía/residencia?\"\n",
    "applicant = [20, True, False, 1]\n",
    "assert benefit_screening(applicant) == True, \"Ej. 1 - Uno o más de tus condicionales parecen estar incorrectos. ¿Quizás tu condicional de ciudadanía/residencia?\"\n",
    "applicant = [20, False, True, 1]\n",
    "assert benefit_screening(applicant) == True, \"Ej. 1 - Uno o más de tus condicionales parecen estar incorrectos. ¿Quizás tu condicional de ciudadanía/residencia?\"\n",
    "applicant = [20, True, False, 10000000]\n",
    "assert benefit_screening(applicant) == False, \"Ej. 1 - Uno o más de tus condicionales parecen estar incorrectos. ¿Quizás tu condicional de ingresos?\"\n",
    "print(\"¡El ejercicio 1 parece correcto!\")"
   ]
  },
  {
   "cell_type": "code",
   "execution_count": null,
   "metadata": {
    "deletable": false,
    "editable": false,
    "nbgrader": {
     "cell_type": "code",
     "checksum": "8a96da2f1f63a731859476dcffa995b3",
     "grade": true,
     "grade_id": "cell-39c8af6587e9ec0a",
     "locked": true,
     "points": 1,
     "schema_version": 3,
     "solution": false,
     "task": false
    }
   },
   "outputs": [],
   "source": [
    "# Ejercicio 2\n",
    "assert is_this_number_even(157) == False, \"Ej. 2 - ¡Revisa tus condicionales! Probamos tu función con 157 y dijo que era par.\"\n",
    "assert is_this_number_even(5) == False, \"Ej. 2 - ¡Revisa tus condicionales! Probamos tu función con 5 y dijo que era par.\"\n",
    "assert is_this_number_even(-8) == True, \"Ej. 2 - ¡Revisa tus condicionales! Probamos tu función con -8 y dijo que era impar.\"\n",
    "print(\"¡El ejercicio 2 parece correcto!\")"
   ]
  },
  {
   "cell_type": "code",
   "execution_count": null,
   "metadata": {
    "deletable": false,
    "editable": false,
    "nbgrader": {
     "cell_type": "code",
     "checksum": "b3a486635a249f4c7c5a2a9fe55c2f53",
     "grade": true,
     "grade_id": "cell-78a27010bc41fdeb",
     "locked": true,
     "points": 1,
     "schema_version": 3,
     "solution": false,
     "task": false
    }
   },
   "outputs": [],
   "source": [
    "# Ejercicio 3\n",
    "import inspect\n",
    "source_fun = inspect.getsource(rewrite_conditional)\n",
    "assert \"elif\" in source_fun, \"Ej. 3 - ¿Usaste declaraciones elif en tu función?\"\n",
    "d = {\"color\": \"brown\"}\n",
    "assert rewrite_conditional(d) == \"Chocolate\", \"Ej. 3 - Revisa tus condicionales. No están dando la salida correcta para 'brown'.\"\n",
    "d = {\"color\": \"red\"}\n",
    "assert rewrite_conditional(d) == \"Strawberries\", \"Ej. 3 - Revisa tus condicionales. No están dando la salida correcta para 'red'.\"\n",
    "d = {\"color\": \"green\"}\n",
    "assert rewrite_conditional(d) == \"Avocado\", \"Ej. 3 - Revisa tus condicionales. No están dando la salida correcta para 'green'.\"\n",
    "d = {\"color\": \"purple\"}\n",
    "assert rewrite_conditional(d) == \"Unknown food\", \"Ej. 3 - Revisa tus condicionales. No están dando la salida correcta para 'purple'.\"\n",
    "print(\"¡El ejercicio 3 parece correcto!\")\n"
   ]
  }
 ],
 "metadata": {
  "language_info": {
   "name": "python"
  }
 },
 "nbformat": 4,
 "nbformat_minor": 2
}

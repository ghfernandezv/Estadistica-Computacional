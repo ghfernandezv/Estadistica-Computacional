{
 "cells": [
  {
   "cell_type": "markdown",
   "metadata": {
    "deletable": false,
    "editable": false,
    "nbgrader": {
     "cell_type": "markdown",
     "checksum": "0b789666a5fcd3cc21e4f2383f48c527",
     "grade": false,
     "grade_id": "cell-47ed3376b1b373de",
     "locked": true,
     "schema_version": 3,
     "solution": false,
     "task": false
    }
   },
   "source": [
    "# Ejercicio de introducción a python"
   ]
  },
  {
   "cell_type": "markdown",
   "metadata": {
    "deletable": false,
    "editable": false,
    "nbgrader": {
     "cell_type": "markdown",
     "checksum": "d6f0761cdf1a7a488bc6635d37364a14",
     "grade": false,
     "grade_id": "cell-e8fe3302c02eaf4a",
     "locked": true,
     "schema_version": 3,
     "solution": false,
     "task": false
    }
   },
   "source": [
    "# **Instrucciones**\n",
    "\n",
    "Para completar este módulo de revisión, te recomendamos seguir estas instrucciones:\n",
    "\n",
    "1. Al escribir tu código, **no** utilices nombres de funciones diferentes a los proporcionados en los enunciados. Si lo haces, el autograder fallará y no recibirás puntos.\n",
    "2. Ejecuta todas las celdas donde se definen funciones antes de ejecutar las celdas de prueba. ¡Las funciones deben existir antes de ser evaluadas!"
   ]
  },
  {
   "cell_type": "markdown",
   "metadata": {
    "deletable": false,
    "editable": false,
    "nbgrader": {
     "cell_type": "markdown",
     "checksum": "ad3daa6f2f1df5714663a2c22a363359",
     "grade": false,
     "grade_id": "cell-f64ad69b5e913fe9",
     "locked": true,
     "schema_version": 3,
     "solution": false,
     "task": false
    },
    "tags": [
     "3_min"
    ]
   },
   "source": [
    "## Ejercicio 1\n",
    "\n",
    "Escribe una función llamada `cube_root` que tome un número no negativo como único argumento. Esta función debe calcular la raíz cúbica del número y devolverla con una declaración `return`.\n",
    "\n",
    "**Nota:**\n",
    "Para este ejercicio, asume que el usuario siempre ingresará un número no negativo; no es necesario incluir verificaciones de validez de entrada.\n",
    "\n",
    "**Pista:**  \n",
    "Recuerda que para $X \\geq 0$,\n",
    "\n",
    "$$\n",
    "\\sqrt[3]{X} = X^{1/3}\n",
    "$$"
   ]
  },
  {
   "cell_type": "code",
   "execution_count": null,
   "metadata": {
    "deletable": false,
    "nbgrader": {
     "cell_type": "code",
     "checksum": "6d0d7f3918ad9db1b10228d7ad006212",
     "grade": false,
     "grade_id": "cell-27de682534bc2137",
     "locked": false,
     "schema_version": 3,
     "solution": true,
     "task": false
    }
   },
   "outputs": [],
   "source": [
    "# Por favor, nombra tu función cube_root - Si usas otro nombre, la prueba fallará.\n",
    "# Escribe tu función abajo (revisa el caso 0.5 para ver cómo definir una función en Python).\n",
    "# TU CÓDIGO AQUÍ\n",
    "raise NotImplementedError() # Elimina esta línea cuando ingreses tu solución"
   ]
  },
  {
   "cell_type": "markdown",
   "metadata": {
    "deletable": false,
    "editable": false,
    "nbgrader": {
     "cell_type": "markdown",
     "checksum": "f414c3241419c39002b714a816494ed8",
     "grade": false,
     "grade_id": "cell-799edd62e644935e",
     "locked": true,
     "schema_version": 3,
     "solution": false,
     "task": false
    },
    "tags": [
     "7_min"
    ]
   },
   "source": [
    "## Ejercicio 2\n",
    "\n",
    "Escribe un docstring apropiado para esta función:"
   ]
  },
  {
   "cell_type": "code",
   "execution_count": 4,
   "metadata": {
    "deletable": false,
    "nbgrader": {
     "cell_type": "code",
     "checksum": "49abf206084320170ac38f675402b7ec",
     "grade": false,
     "grade_id": "cell-b75f1fddc7d0f9b1",
     "locked": false,
     "schema_version": 3,
     "solution": true,
     "task": false
    }
   },
   "outputs": [],
   "source": [
    "def my_function(my_string, reps): # No cambies esta línea!\n",
    "    \n",
    "    # TU CÓDIGO AQUÍ\n",
    "    raise NotImplementedError() # Elimina esta línea cuando ingreses tu solución\n",
    "    \n",
    "    my_string = my_string.upper()\n",
    "    repeated = my_string * reps\n",
    "        \n",
    "    return repeated\n"
   ]
  },
  {
   "cell_type": "markdown",
   "metadata": {
    "deletable": false,
    "editable": false,
    "nbgrader": {
     "cell_type": "markdown",
     "checksum": "ec690a1873a007fc9bd2d6f2ccaf5eed",
     "grade": false,
     "grade_id": "cell-339b10aeade0214e",
     "locked": true,
     "schema_version": 3,
     "solution": false,
     "task": false
    },
    "tags": [
     "5_min"
    ]
   },
   "source": [
    "## Ejercicio 3\n",
    "\n",
    "Escribe una función llamada `process_number` que tome dos números enteros positivos como argumentos. Esta función debe:\n",
    "\n",
    "1. Calcular la raíz cúbica del primer número entero (para esto, te recomendamos llamar a la función `cube_root` dentro de esta función).\n",
    "2. Elevar esa raíz cúbica a la potencia cuyo exponente es el segundo número.\n",
    "\n",
    "Por ejemplo, si los dos enteros son $x=27$ y $y=4$, entonces la salida de esta función debería ser:\n",
    "\n",
    "$$\n",
    "(\\sqrt[3]{x})^y = (\\sqrt[3]{27})^4 = 3^4 = 81\n",
    "$$\n",
    "\n",
    "### **Nota:**  \n",
    "Para este ejercicio, asume que el usuario siempre ingresará números positivos; no es necesario incluir verificaciones de validez de entrada.\n"
   ]
  },
  {
   "cell_type": "code",
   "execution_count": null,
   "metadata": {
    "deletable": false,
    "nbgrader": {
     "cell_type": "code",
     "checksum": "7385eb3ab8d99ec57485ca288410e0b3",
     "grade": false,
     "grade_id": "cell-59e7e19785f29189",
     "locked": false,
     "schema_version": 3,
     "solution": true,
     "task": false
    }
   },
   "outputs": [],
   "source": [
    "# Por favor, nombra tu función process_number - Si usas otro nombre, la prueba fallará.\n",
    "# Escribe tu función abajo (revisa el caso 0.5 para ver cómo definir una función en Python).\n",
    "# TU CÓDIGO AQUÍ\n",
    "raise NotImplementedError() # Elimina esta línea cuando ingreses tu solución"
   ]
  },
  {
   "cell_type": "markdown",
   "metadata": {
    "deletable": false,
    "editable": false,
    "nbgrader": {
     "cell_type": "markdown",
     "checksum": "a51907b4d13b1fa82d0a49603fe45e25",
     "grade": false,
     "grade_id": "cell-e5a49baab4e1452d",
     "locked": true,
     "schema_version": 3,
     "solution": false,
     "task": false
    }
   },
   "source": [
    "## Exercise 4\n",
    "\n",
    "Escribe una función llamada `split_number` que tome un número flotante como entrada y devuelva dos valores flotantes:\n",
    "\n",
    "1. El primer flotante es la parte \"entera\" del número. Por ejemplo, si la entrada es $25.7$, este primer flotante debe ser $25.0$.\n",
    "2. El segundo flotante es la parte \"decimal\" del número. Por ejemplo, si la entrada es $25.7$, este segundo flotante debe ser $7.0$ (*no* $0.7$).\n",
    "\n",
    "**Pista:**\n",
    "Para esto, te sugerimos que primero conviertas el número en una cadena y luego uses `.split(\".\")` para separar sus componentes. No olvides devolver ambos valores como **flotantes**.\n"
   ]
  },
  {
   "cell_type": "code",
   "execution_count": null,
   "metadata": {
    "deletable": false,
    "nbgrader": {
     "cell_type": "code",
     "checksum": "7871dc137a198f13cd92d1151c3ae22f",
     "grade": false,
     "grade_id": "cell-e608ada7b2b43e72",
     "locked": false,
     "schema_version": 3,
     "solution": true,
     "task": false
    }
   },
   "outputs": [],
   "source": [
    "def split_number(number):\n",
    "    \"\"\"\n",
    "    Divide `number` en su parte entera y decimal.\n",
    "    \n",
    "    Argumentos:\n",
    "    `number`: Un número entero o flotante.\n",
    "    \n",
    "    Salidas:\n",
    "    `integer_part`: Un número flotante.\n",
    "    `decimal_part`: Un número flotante.\n",
    "    \n",
    "    Ejemplo:\n",
    "    split_number(25.7) debería producir 25.0 como primera salida\n",
    "    y 7.0 como segunda salida.\n",
    "    \"\"\"\n",
    "    # TU CÓDIGO AQUÍ\n",
    "    raise NotImplementedError() # Elimina esta línea cuando ingreses tu solución\n",
    "    return integer_part, decimal_part"
   ]
  },
  {
   "cell_type": "markdown",
   "metadata": {
    "deletable": false,
    "editable": false,
    "nbgrader": {
     "cell_type": "markdown",
     "checksum": "d45b7979ce9bbd4f9c2d1bd856551666",
     "grade": false,
     "grade_id": "cell-0ae3bb721640326a",
     "locked": true,
     "schema_version": 3,
     "solution": false,
     "task": false
    }
   },
   "source": [
    "## Celdas de Prueba\n",
    "\n",
    "Ejecuta las siguientes celdas para verificar tus respuestas. Asegúrate de ejecutar primero las celdas donde escribiste tu solución antes de ejecutar las celdas de prueba, de lo contrario, obtendrás un `NameError` al comprobar tus respuestas."
   ]
  },
  {
   "cell_type": "code",
   "execution_count": null,
   "metadata": {
    "deletable": false,
    "editable": false,
    "nbgrader": {
     "cell_type": "code",
     "checksum": "3bf743317ef13c85cd7531485ae81c1d",
     "grade": true,
     "grade_id": "cell-293c1c13c0baad1c",
     "locked": true,
     "points": 1,
     "schema_version": 3,
     "solution": false,
     "task": false
    }
   },
   "outputs": [],
   "source": [
    "# Ejercicio 1\n",
    "try:\n",
    "    cube_root(27)\n",
    "except NameError:\n",
    "    assert 3**3 == 9, \"Ej. 1 - ¡No has definido una función llamada cube_root! Recuerda nombrar tu función cube_root y ejecutar la celda correspondiente antes de ejecutar esta prueba.\"\n",
    "else:\n",
    "    assert round(cube_root(27)) == 3, \"Ej. 1 - ¡Incorrecto! Recuerda que para elevar un número x a la potencia y, se usa x**y en Python.\"\n",
    "    assert round(cube_root(1000)) == 10, \"Ej. 1 - ¡Incorrecto! Recuerda que para elevar un número x a la potencia y, se usa x**y en Python.\"\n",
    "    print(\"¡El ejercicio 1 parece correcto!\")\n"
   ]
  },
  {
   "cell_type": "code",
   "execution_count": null,
   "metadata": {
    "deletable": false,
    "editable": false,
    "nbgrader": {
     "cell_type": "code",
     "checksum": "98348713ee79dd50c63fee67372233bd",
     "grade": true,
     "grade_id": "cell-303c96e4e07385c0",
     "locked": true,
     "points": 1,
     "schema_version": 3,
     "solution": false,
     "task": false
    }
   },
   "outputs": [],
   "source": [
    "# Ejercicio 2\n",
    "import inspect\n",
    "source_fun = inspect.getsource(my_function)\n",
    "assert source_fun.count('\"\"\"') == 2, \"Ej. 2 - ¿Agregaste un docstring a tu función? Recuerda usar comillas triples tanto al principio como al final del docstring.\"\n",
    "assert len(source_fun.split('\"\"\"')[1]) > 15, \"Ej. 2 - ¿Agregaste un docstring a tu función? Los docstrings cortos son buenos, pero a veces necesitamos más información.\"\n",
    "assert \"argument\" in source_fun.split('\"\"\"')[1].lower(), \"Ej. 2 - ¿Especificaste los argumentos de la función en tu docstring?\"\n",
    "assert \"output\" in source_fun.split('\"\"\"')[1].lower(), \"Ej. 2 - ¿Especificaste la salida de la función en tu docstring?\"\n",
    "print(\"¡El ejercicio 2 parece correcto!\")"
   ]
  },
  {
   "cell_type": "code",
   "execution_count": null,
   "metadata": {
    "deletable": false,
    "editable": false,
    "nbgrader": {
     "cell_type": "code",
     "checksum": "c7daac271dac05477868fd1a3becc1ac",
     "grade": true,
     "grade_id": "cell-0a378773c1097e13",
     "locked": true,
     "points": 1,
     "schema_version": 3,
     "solution": false,
     "task": false
    }
   },
   "outputs": [],
   "source": [
    "# Ejercicio 3\n",
    "try:\n",
    "    process_number(27, 2)\n",
    "except NameError:\n",
    "    assert 3**3 == 9, \"Ej. 3 - ¡No has definido una función llamada process_number! Recuerda nombrar tu función process_number y ejecutar la celda correspondiente antes de ejecutar esta prueba.\"\n",
    "else:\n",
    "    assert round(process_number(27, 2)) == 9, \"Ej. 3 - Tu función no está produciendo la salida correcta. ¡Por favor, revisa tu aritmética!\"\n",
    "    assert round(process_number(64, 4)) == 256, \"Ej. 3 - Tu función no está produciendo la salida correcta. ¡Por favor, revisa tu aritmética!\"\n",
    "    print(\"¡El ejercicio 3 parece correcto!\")\n"
   ]
  },
  {
   "cell_type": "code",
   "execution_count": null,
   "metadata": {
    "deletable": false,
    "editable": false,
    "nbgrader": {
     "cell_type": "code",
     "checksum": "dc4b75ec004165f73a078373124d72b8",
     "grade": true,
     "grade_id": "cell-9003ad0a93088895",
     "locked": true,
     "points": 1,
     "schema_version": 3,
     "solution": false,
     "task": false
    }
   },
   "outputs": [],
   "source": [
    "# Ejercicio 4\n",
    "assert split_number(27.2)[0] == 27, \"Ej. 4 - Tu función no está produciendo la salida correcta. ¡Por favor, revisa tu aritmética!\"\n",
    "assert split_number(64.4)[1] == 4, \"Ej. 4 - Tu función no está produciendo la salida correcta. ¡Por favor, revisa tu aritmética!\"\n",
    "assert split_number(12.0)[1] == 0, \"Ej. 4 - Tu función no está produciendo la salida correcta. ¡Por favor, revisa tu aritmética!\"\n",
    "print(\"¡El ejercicio 4 parece correcto!\")\n"
   ]
  }
 ],
 "metadata": {
  "kernelspec": {
   "display_name": "ml_venv",
   "language": "python",
   "name": "python3"
  },
  "language_info": {
   "codemirror_mode": {
    "name": "ipython",
    "version": 3
   },
   "file_extension": ".py",
   "mimetype": "text/x-python",
   "name": "python",
   "nbconvert_exporter": "python",
   "pygments_lexer": "ipython3",
   "version": "3.9.19"
  }
 },
 "nbformat": 4,
 "nbformat_minor": 2
}

{
  "nbformat": 4,
  "nbformat_minor": 0,
  "metadata": {
    "colab": {
      "provenance": []
    },
    "kernelspec": {
      "name": "python3",
      "display_name": "Python 3"
    },
    "language_info": {
      "name": "python"
    }
  },
  "cells": [
    {
      "cell_type": "markdown",
      "source": [
        "# **Módulo 1: Introducción a la ciencia de datos con Python**"
      ],
      "metadata": {
        "id": "2iIaum8R7TfC"
      }
    },
    {
      "cell_type": "markdown",
      "source": [
        "# **1. Introducción a Python**\n",
        "\n",
        "## **1.1 Introducción a Python**\n",
        "\n",
        "Python es un lenguaje de programación de alto nivel y de gran utilidad para la construcción de cualquier clase de soluciones informáticas.\n",
        "\n",
        "Algunas características que tiene python:\n",
        "\n",
        "*   **Lenguaje interpretado**: Python es un lenguaje interpretado, diferenciándolo de otros lenguajes de programación de alto nivel como Java o C++. Al ser un lenguaje interpretado, no necesita ser compilado para ejecutar las instrucciones escritas. Por lo tanto, su ejecución no implica llevarlo a código de máquina.\n",
        "\n",
        "*   **Código abierto, multiplataforma y multiparadigma**:\n",
        "Python es un lenguaje de programación de código abierto; es decir, puede ser utilizado por cualquier persona gracias a las licencias gratuitas. Además, es multiplataforma, ya que puede ser adaptado para diferentes contextos y sistemas operativos. También, se aplica en muchos paradigmas de programación, tales como programación imperativa y la orientada a objetos. Así mismo, cuenta con una sintaxis y legibilidad que lo hacen muy sencillo y cercano al lenguaje natural.\n",
        "\n",
        "* **Tipado dinámico**:\n",
        "Python es un lenguaje de tipado dinámico. Esto quiere decir que, cuando se utiliza una variable, no es necesario describir de forma explícita el tipo de datos, ya que la variable se adecúa a la forma en que se utilice durante la escritura del programa. La variable puede tomar distintos tipos de valores durante su ejecución; por ejemplo, la variable var puede tomar cuatro tipos diferentes (`int`, `str`, `bool` y `float`), como se ve en el ejemplo siguiente:\n",
        "\n",
        "\n",
        "\n",
        "\n"
      ],
      "metadata": {
        "id": "jqveKm6fBPrp"
      }
    },
    {
      "cell_type": "code",
      "source": [
        "var_1 = 11; var_2 = 'Ciencia'; var_3 = True; var_4 = 4.57\n",
        "type(var_1), type(var_2), type(var_3), type(var_4)"
      ],
      "metadata": {
        "colab": {
          "base_uri": "https://localhost:8080/"
        },
        "id": "1Yf2FAG6S0Li",
        "outputId": "4969d6f8-3f98-4e4d-d577-87c7aed7e2bb"
      },
      "execution_count": null,
      "outputs": [
        {
          "output_type": "execute_result",
          "data": {
            "text/plain": [
              "(int, str, bool, float)"
            ]
          },
          "metadata": {},
          "execution_count": 9
        }
      ]
    },
    {
      "cell_type": "markdown",
      "source": [
        "* **Bibliotecas y funciones**\n",
        "Python cuenta con una gran cantidad de bibliotecas y funciones que facilitan el trabajo de programación. Además, existe una gran comunidad que sirve de apoyo a los neófitos de Python y apoyan con información de las herramientas. Entre las bibliotecas, se destacan las utilizadas en la ciencia de datos: `Numpy`, `Pandas`, `Matplotlib` y `Scikit-learn`."
      ],
      "metadata": {
        "id": "ttCIKJoNS0-4"
      }
    },
    {
      "cell_type": "markdown",
      "source": [
        "## **1.3 Fundamentos de sintaxis y estructura**\n",
        "<p style='text-align: justify;'>\n",
        "El objetivo de esta sesión NO es de ningún modo aprender a utilizar el Python como una calculadora sino más bien familiarizarce con la manera en que el programa trabaja cada una de las operaciones aritméticas y funciones de uso común, además de operaciones con vectores y matrices.\n",
        "</p>"
      ],
      "metadata": {
        "id": "bIarkRUFMF7l"
      }
    },
    {
      "cell_type": "markdown",
      "source": [
        "**Comentarios**"
      ],
      "metadata": {
        "id": "5Gg64Yfy1Eno"
      }
    },
    {
      "cell_type": "markdown",
      "source": [
        "Los comentarios en Python se realizan usando el símbolo `#` para comentarios de una sola línea, y triple comillas dobles \"\"\" para comentarios de múltiples líneas o docstrings, los cuales son especialmente útiles para documentar el propósito de funciones y clases."
      ],
      "metadata": {
        "id": "PgPLOnsH1MeE"
      }
    },
    {
      "cell_type": "code",
      "source": [
        "# Python fue creado por Guido van Rossum, un programador holandés, en 1991."
      ],
      "metadata": {
        "id": "xCGnrcTqlZqn"
      },
      "execution_count": null,
      "outputs": []
    },
    {
      "cell_type": "markdown",
      "source": [
        "1.3.1 **Constantes o valores**\n",
        "\n",
        "Las constantes son elementos que se fijan en un programa y que no permiten cambios; por ejemplo, un número ($45$ o $32$), una letra (`a` o `b`), una cadena ('cuaderno' o 'borrador') o un booleano (`True`). Como se puede observar, cada una de estas constantes tiene una forma o tipo.\n",
        "\n",
        "1.3.2. **Tipos de datos**\n",
        "\n",
        "Los tipos de datos básicos más comunes en Python son:\n",
        "\n",
        "*   **Entero**: Se representa con la palabra clave __int__; por ejemplo, $45$ o $38$.\n",
        "*   **Real o punto flotante**: Son los números que contiene un punto decimal entre dos dígitos y se representa con la palabra clave __float__, por ejemplo $0.29$, $26.82$ y $0.03$.\n",
        "*  **Complejos**: Un número complejo es de la forma $a+bi$, donde $a,b$ son números reales y se define con la palabra clave __complex__ Por ejemplo, $2+3j$.\n",
        "* **Cadenas**: Están conformados por una secuencia de caracteres encerrados entre comillas simples o dobles. Se representan por la palabra clave __str__; por ejemplo, \"Toma de todo\", \"Hola mundo\".\n",
        "* **Lógicos y booleanos**: Estos tipos de datos solo pueden tomar dos valores, `True` o `False`, donde `True` toma valor de $1$ y `False` toma el valor de $0$. Se representan por la palabra clave __bool__.\n",
        "\n",
        "\n",
        "\n"
      ],
      "metadata": {
        "id": "27jOGQzQNFTR"
      }
    },
    {
      "cell_type": "code",
      "source": [
        "# Ejemplo"
      ],
      "metadata": {
        "id": "_POkBpfCUKlT"
      },
      "execution_count": null,
      "outputs": []
    },
    {
      "cell_type": "markdown",
      "source": [
        "1.3.3 **Variables**\n",
        "\n",
        "Las __variables__ son nombres que hacen referencia a un valor. Este valor puede cambiar a lo largo de la ejecución de un programa. Las __variables__ son espacios de la memoria principal del computador, en donde se almacenan valores de forma temporal o permanente durante la ejecución de un programa.\n",
        "\n",
        "*   __Operacción de asignación__: Para darles el valor a las variables, se realiza la operación de asignación. Esta se hace mediante el signo igual (=), escrito entre el nombre de la variable y el elemento que se le asigna. El elemento asignado puede ser un valor, otra variable previamente definida o una expresión resultante del uso de otras variables, valores u operadores. Algunos ejemplos de asignación son:"
      ],
      "metadata": {
        "id": "LXwJPRaCXX_E"
      }
    },
    {
      "cell_type": "code",
      "source": [
        "# Ejemplo"
      ],
      "metadata": {
        "id": "ABW120HzYX72"
      },
      "execution_count": null,
      "outputs": []
    },
    {
      "cell_type": "markdown",
      "source": [
        "*   __Tipo de datos de variables__: Ya que las variables toman sus valores en la medida en que son definidas a lo largo de la ejecución del programa, su tipo está determinado por el valor que adquieren cuando se realiza la asignación; por ejemplo:\n",
        "\n",
        "\n"
      ],
      "metadata": {
        "id": "9V9j4l8QYxfP"
      }
    },
    {
      "cell_type": "code",
      "source": [
        "# Ejemplo"
      ],
      "metadata": {
        "id": "xKuDAB7pYt74"
      },
      "execution_count": null,
      "outputs": []
    },
    {
      "cell_type": "markdown",
      "source": [
        "* __Reglas para el nombre de las variables__:\n",
        "Python es sensible a mayúsculas y minúsculas. La variable __X__ y __x__ son diferentes; es decir, si se asigna `X=3` y `x=4`, nunca se reescribe la variable __X__ (en mayúscula) con la segunda asignación.\n",
        "Los nombres de las variables no pueden empezar con caracteres especiales, excepto el guion bajo (`_`); por ejemplo, **_cuenta** es válida, pero **$cuenta** no lo es.\n",
        "Las variables no pueden iniciar con un número, sino con una letra."
      ],
      "metadata": {
        "id": "5EOAFpyTbHhc"
      }
    },
    {
      "cell_type": "markdown",
      "source": [
        "1.3.4 **Sentencias**\n",
        "\n",
        "Las __sentencias__ son las mínimas acciones escritas en un programa de Python que el __intérprete__ es capaz de ejecutar. Las asignaciones son consideradas sentencias. Un programa está compuesto de muchas sentencias para lograr su objetivo. En modo interactivo, también se ejecutan las sentencias y se muestra su resultado, siempre y cuando generen alguna salida.\n",
        "\n",
        "*   **Sentencia de entrada**: La sentencia de entrada  de datos corresponden a la función `input`. Esta sentencia se utiliza para capturar la entrada del usuario desde la consola.  Por ejemplo:"
      ],
      "metadata": {
        "id": "QNxVl7TumEgK"
      }
    },
    {
      "cell_type": "code",
      "source": [
        "# Ejemplo"
      ],
      "metadata": {
        "id": "hmX7uilMm6lb"
      },
      "execution_count": null,
      "outputs": []
    },
    {
      "cell_type": "markdown",
      "source": [
        "**Observación**: Debemos tener en cuenta que cuando digitamos un número en el `input` el tipo de dato es de `cadena`, es decir, `string`; por lo que si escribes un número debes indicarle si es entero o real. Por ejemplo:"
      ],
      "metadata": {
        "id": "htmUJZ7XBJBi"
      }
    },
    {
      "cell_type": "code",
      "source": [
        "# Ejemplo"
      ],
      "metadata": {
        "id": "Tym7q3sFBx37"
      },
      "execution_count": null,
      "outputs": []
    },
    {
      "cell_type": "markdown",
      "source": [
        "*   **Sentencia de salida**: La sentencia de salida de datos corresponden a la función `print`. Esta sentencia se utiliza para mostrar texto y otros tipos de datos en la consola. Por ejemplo"
      ],
      "metadata": {
        "id": "3OxOIMsJm7JV"
      }
    },
    {
      "cell_type": "code",
      "source": [
        "# Ejemplo"
      ],
      "metadata": {
        "id": "lLrCAQBaDM0s"
      },
      "execution_count": null,
      "outputs": []
    },
    {
      "cell_type": "markdown",
      "source": [
        "1.3.5 **Operaciones aritmeticas**\n",
        "\n",
        "Los __operadores aritméticos__ en Python son fundamentales para realizar cálculos. Se aplican sobre operandos, que pueden ser tanto variables como constantes. La tabla siguiente recoge los operadores más comunes en Python.\n",
        "\n",
        "\n",
        "<div align=\"center\">\n",
        "\n",
        "|  __Operador__  |  __Descripción__   |  __Ejemplo__  |  __Resultado__  |\n",
        "|----------------|--------------------|---------------|-----------------|\n",
        "|     x + y      |       Suma         |     4 + 5     |        9        |\n",
        "|     x - y      |       Resta        |     6 - 3     |        3        |\n",
        "|     x * y      |   Multiplicación   |     3 \\* 4    |       12        |\n",
        "|     x / y      |      División      |    15 / 4     |       3.75      |\n",
        "|     x % y      |       Módulo       |    15 % 4     |        3        |\n",
        "|     x // y     | División entera    |    25 // 4    |        6        |\n",
        "|     x ** y     |   Exponenciación   |     2 ** 3    |        8        |\n",
        "\n",
        "</div>"
      ],
      "metadata": {
        "id": "ZBF0nm68W7dt"
      }
    },
    {
      "cell_type": "code",
      "source": [
        "# Ejemplo"
      ],
      "metadata": {
        "id": "oXGJoemUa0ua"
      },
      "execution_count": null,
      "outputs": []
    },
    {
      "cell_type": "markdown",
      "source": [
        "**Observación**: La concatenación de caracteres en Python se realiza utilizando el operador `+`. Este operador permite unir dos o más cadenas de texto en una sola cadena. Es importante asegurarse de que ambos operandos sean cadenas de texto para evitar errores de tipo. Aquí tienes un ejemplo:\n"
      ],
      "metadata": {
        "id": "kHsYMKkcZt7r"
      }
    },
    {
      "cell_type": "code",
      "source": [
        "# Ejemplo"
      ],
      "metadata": {
        "id": "iC71eMiYaXEw"
      },
      "execution_count": null,
      "outputs": []
    },
    {
      "cell_type": "markdown",
      "source": [
        "1.3.6 **Símbolos de asignación aumentada**\n",
        "\n",
        "Los __símbolos de asignación aumentada__ en Python son una forma conveniente de modificar el valor de una variable utilizando un operador aritmético y la asignación. Estos operadores combinan una operación aritmética con la asignación, simplificando el código.\n",
        "\n",
        "Aquí están los símbolos de asignación aumentada más comunes en Python:\n",
        "\n",
        "<div align=\"center\">\n",
        "\n",
        "Operador  | Descripción\n",
        "----------|-------------\n",
        "x += y    | x = x + y\n",
        "x -= y    | x = x - y\n",
        "x *= y    | x = x * y\n",
        "x /= y    | x = x / y\n",
        "x %= y    | x = x % y\n",
        "x **= y   | x = x ** y\n",
        "x //= y   | x = x // y\n",
        "\n",
        "<div>"
      ],
      "metadata": {
        "id": "ONRJNqbicnxr"
      }
    },
    {
      "cell_type": "code",
      "source": [
        "# Ejemplo"
      ],
      "metadata": {
        "id": "t-Q1Fe2YgEru"
      },
      "execution_count": null,
      "outputs": []
    },
    {
      "cell_type": "markdown",
      "source": [
        "1.3.7 **Operadores de comparación**\n",
        "\n",
        "Los operadores relacionales sirven para comparar dos expresiones y devuelven un valor booleano, que puede ser __True__ (verdadero) o __False__ (falso). Consulta la tabla siguiente para más detalles sobre estos operadores\n",
        "\n",
        "<div align=\"center\">\n",
        "\n",
        "|__Comando__|__Significado__|__Ejemplo__|__Resultado__|\n",
        "|-----------|---------------|-----------|-------------|\n",
        "| x == y    | x es igual a y| 4 == 5    | `False`      |\n",
        "| x != y    | x no es igual a y| 6 != 3 | `True`        |\n",
        "| x > y     | x es mayor que y| 7 > 4   | `True`        |\n",
        "| x < y     | x es menor que y| 9 < 8   | `False`      |\n",
        "| x >= y    | x es mayor o igual que y| 5 >= 5 | `True`        |\n",
        "| x <= y    | x es menor o igual que y| 2 <= 4 | `True`        |\n",
        "\n",
        "</div>"
      ],
      "metadata": {
        "id": "zn3BE_fKLgN8"
      }
    },
    {
      "cell_type": "code",
      "source": [
        "# Ejemplo"
      ],
      "metadata": {
        "id": "w8kJatkQSAhD"
      },
      "execution_count": null,
      "outputs": []
    },
    {
      "cell_type": "markdown",
      "source": [
        "1.3.8 **Operadores lógicos**:\n",
        "\n",
        "Los __operadores lógicos__ permiten combinar subexpresiones booleanas para obtener un nuevo valor booleano. Los operadores más comunes son and, or y not, y se detallan en la siguiente tabla.\n",
        "\n",
        "<div align=\"center\">\n",
        "\n",
        "| __Comando__ | __Significado__ | __Ejemplo__ | __Resultado__ |\n",
        "|-------------|------------------|-------------|---------------|\n",
        "| and         | y                | `True` and `False` | `False`      |\n",
        "| or          | o                | `True` or `False`  | `True`        |\n",
        "| not         | No               | `not` `True`       | `False`       |\n",
        "\n",
        "</div>"
      ],
      "metadata": {
        "id": "uTmvvp8zr3yX"
      }
    },
    {
      "cell_type": "code",
      "source": [
        "# Ejemplo"
      ],
      "metadata": {
        "id": "g4NdIAgea916"
      },
      "execution_count": null,
      "outputs": []
    },
    {
      "cell_type": "markdown",
      "source": [
        "1.3.9 **Estructuras algorítmicas**\n",
        "\n",
        "Las __estructuras algorítmicas__ consisten en bloques formados por múltiples sentencias. Estas sentencias pueden ser simples o también pueden contener otras estructuras de bloques. Al escribir estructuras algorítmicas en Python, es crucial tener en cuenta dos aspectos importantes:\n",
        "\n",
        "1.   Cada vez que se inicia una estructura, el encabezado debe terminar con dos puntos (:).\n",
        "2.   Cada sentencia dentro de una estructura debe estar indentada en relación con el encabezado.\n",
        "\n",
        "<div align=\"center\">\n",
        "\n",
        "![Est_Alg.PNG](data:image/png;base64,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)\n",
        "\n",
        "<div>"
      ],
      "metadata": {
        "id": "eJ1RM8nYd2vn"
      }
    },
    {
      "cell_type": "markdown",
      "source": [
        "1.3.9.1 **Sentencias condicionales**\n",
        "\n",
        "Las __sentencias condicionales__ son estructuras de programación que permiten ejecutar cierto bloque de código si se cumple una condición especificada. En las sentencias condicionales, siempre habrá una condición después de la palabra clave.\n",
        "\n",
        "\n",
        "\n",
        "*   **Sentencia if-else simple**: Las sentencias __if-else__ en programación permiten tomar decisiones dentro de un algoritmo. La estructura básica es la siguiente:"
      ],
      "metadata": {
        "id": "tdilipiz787V"
      }
    },
    {
      "cell_type": "code",
      "source": [
        "# if condición:\n",
        "    ## bloque de código a ejecutar si la condición es verdadera\n",
        "# else:\n",
        "    ## bloque de código a ejecutar si la condición es falsa"
      ],
      "metadata": {
        "id": "EZo5iyyr9CwG"
      },
      "execution_count": null,
      "outputs": []
    },
    {
      "cell_type": "markdown",
      "source": [
        "El flujo de control funciona así: primero, se evalúa la condición. Si la condición es verdadera (`True`), se ejecuta el bloque de código dentro del `if`. Si la condición es falsa (`False`), se ejecuta el bloque de código dentro del else. Por ejemplo:"
      ],
      "metadata": {
        "id": "KFV1BZTdAD6D"
      }
    },
    {
      "cell_type": "code",
      "source": [
        "# Definición de la variable\n",
        "edad = float(input('Escriba la edad de la persona '))\n",
        "\n",
        "# sentencia if-else\n",
        "if ... :\n",
        "    ...\n",
        "else:\n",
        "    ..."
      ],
      "metadata": {
        "id": "kcusMQnYADRw"
      },
      "execution_count": null,
      "outputs": []
    },
    {
      "cell_type": "markdown",
      "source": [
        "*   **Sentencia if-else anidada**: Las sentencias __if-else anidadas__ permiten manejar múltiples condiciones en un algoritmo, ejecutando diferentes bloques de código según diversas situaciones. La estructura básica de una sentencia `if-else` anidada es la siguiente:"
      ],
      "metadata": {
        "id": "XoekiaCqAfZt"
      }
    },
    {
      "cell_type": "code",
      "source": [
        "# if condición1:\n",
        "    ## bloque de código a ejecutar si condición1 es verdadera\n",
        "    # if condición1_1:\n",
        "        ## bloque de código a ejecutar si condición1_1 es verdadera\n",
        "    # else:\n",
        "        ## bloque de código a ejecutar si condición1_1 es falsa\n",
        "# else:\n",
        "    # if condición2:\n",
        "        ## bloque de código a ejecutar si condición2 es verdadera\n",
        "    # else:\n",
        "        ## bloque de código a ejecutar si condición2 es falsa"
      ],
      "metadata": {
        "id": "7YZYvxL5BB5z"
      },
      "execution_count": null,
      "outputs": []
    },
    {
      "cell_type": "markdown",
      "source": [
        "Cada `if` o `else` dentro de otro `if` o `else` se denomina __anidado__. Esta estructura permite evaluar múltiples condiciones de manera secuencial. Por ejemplo"
      ],
      "metadata": {
        "id": "JbaHFBSZBM1x"
      }
    },
    {
      "cell_type": "code",
      "source": [
        "# definición de la variable\n",
        "nota = float(input('Escriba la nota que obtuvo en el examen '))\n",
        "\n",
        "# sentencia if-else anidada\n",
        "if ... :\n",
        "    print(\"Excelente\")\n",
        "else:\n",
        "    if ...:\n",
        "        ...\n",
        "    else:\n",
        "        if ...:\n",
        "            ...\n",
        "        else:\n",
        "            ..."
      ],
      "metadata": {
        "id": "JX0ZHyUABLXG"
      },
      "execution_count": null,
      "outputs": []
    },
    {
      "cell_type": "markdown",
      "source": [
        "*   **Sentencia if-elif anidada**\n",
        "\n",
        "La sentencia __if-elif__ en programación es una forma abreviada de manejar múltiples condiciones consecutivas sin necesidad de anidar múltiples `else-if`. La palabra clave __elif__ (abreviatura de `else if`) permite evaluar una nueva condición si la condición anterior es falsa, simplificando la estructura del código y mejorando su legibilidad. La estructura básica de una sentencia `if-elif` es la siguiente:"
      ],
      "metadata": {
        "id": "95IyvHqsBtTY"
      }
    },
    {
      "cell_type": "code",
      "source": [
        "# if condición1:\n",
        "    ## bloque de código a ejecutar si condición1 es verdadera\n",
        "# elif condición2:\n",
        "    ## bloque de código a ejecutar si condición2 es verdadera\n",
        "# elif condición3:\n",
        "    ## bloque de código a ejecutar si condición3 es verdadera\n",
        "# else:\n",
        "    ## bloque de código a ejecutar si ninguna de las condiciones anteriores es verdadera"
      ],
      "metadata": {
        "id": "ExfvFd9ICkNW"
      },
      "execution_count": null,
      "outputs": []
    },
    {
      "cell_type": "markdown",
      "source": [
        "Cada `elif` es evaluado solo si las condiciones anteriores son falsas. Si una condición `elif` es verdadera, su bloque de código correspondiente se ejecuta y las demás condiciones no se evalúan. Por ejemplo"
      ],
      "metadata": {
        "id": "tULLvPhGC2Ra"
      }
    },
    {
      "cell_type": "code",
      "source": [
        "# definición de la variable\n",
        "nota = float(input('Escriba la nota que obtuvo en el examen '))\n",
        "\n",
        "# sentencia elif anidada\n",
        "if ...:\n",
        "    ...\n",
        "elif ...:\n",
        "    ...\n",
        "elif ...:\n",
        "    ...\n",
        "else:\n",
        "    ..."
      ],
      "metadata": {
        "id": "CCQZTbAnC8A3"
      },
      "execution_count": null,
      "outputs": []
    },
    {
      "cell_type": "markdown",
      "source": [
        "1.3.9.2 **Sentencias repetitivas**\n",
        "\n",
        "Las __sentencias repetitivas__, también conocidas como __bucles__ o __ciclos__, son estructuras de programación que permiten ejecutar repetidamente un bloque de código mientras se cumple una condición específica o durante un número determinado de iteraciones. Estas sentencias son esenciales para automatizar tareas repetitivas y para procesar secuencias de datos de manera eficiente. Los tipos más comunes de sentencias repetitivas incluyen:\n",
        "\n",
        "*  **Bucle For**: El bucle `for` es una estructura de control de flujo que permite iterar sobre una secuencia de elementos (como una lista, tupla, cadena, conjunto o rango) y ejecutar un bloque de código para cada elemento de la secuencia. Este tipo de bucle es muy útil cuando se sabe de antemano cuántas veces se debe repetir el bloque de código, o cuando se quiere realizar una operación en cada elemento de una colección. La estructura básica de un bucle for en Python es:"
      ],
      "metadata": {
        "id": "Rc6kpZqoD9as"
      }
    },
    {
      "cell_type": "code",
      "source": [
        "# for elemento in secuencia:\n",
        "    ## bloque de código a ejecutar para cada elemento"
      ],
      "metadata": {
        "id": "oz0oRx02F5jF"
      },
      "execution_count": null,
      "outputs": []
    },
    {
      "cell_type": "markdown",
      "source": [
        "Aquí, elemento es una variable que toma el valor de cada elemento en la secuencia durante cada iteración del bucle. El bloque de código dentro del bucle se ejecuta una vez por cada elemento en la secuencia. Por ejemplo"
      ],
      "metadata": {
        "id": "P9T2UD_QGAqJ"
      }
    },
    {
      "cell_type": "code",
      "source": [
        "# Definicion de variable\n",
        "palabra = \"hola\"\n",
        "\n",
        "# Iterar sobre una cadena\n",
        "for ... in ...:\n",
        "    ..."
      ],
      "metadata": {
        "id": "6-b2SiBXLnaZ"
      },
      "execution_count": null,
      "outputs": []
    },
    {
      "cell_type": "code",
      "source": [
        "# Iterar sobre un rango de números\n",
        "for ... in ...:\n",
        "    ..."
      ],
      "metadata": {
        "id": "J4wUyimNLunO"
      },
      "execution_count": null,
      "outputs": []
    },
    {
      "cell_type": "code",
      "source": [
        "# Definicion de variable\n",
        "frutas = [\"manzana\", \"banana\", \"cereza\"]\n",
        "\n",
        "# Iterar sobre una lista\n",
        "for ... in ...:\n",
        "    print(...)"
      ],
      "metadata": {
        "id": "yUdQrbiYGFdu"
      },
      "execution_count": null,
      "outputs": []
    },
    {
      "cell_type": "markdown",
      "source": [
        "Dentro de un bucle `for`, se pueden usar las declaraciones __break__ y __continue__ para controlar el flujo del bucle:\n",
        "\n",
        "*   **break**: Termina el bucle prematuramente, es decir, sale del bucle cuando se cumple una condición específica.\n",
        "*   **continue**: Salta a la siguiente iteración del bucle, omitiendo el resto del bloque de código para la iteración actual."
      ],
      "metadata": {
        "id": "4FNGTLWqMNvv"
      }
    },
    {
      "cell_type": "code",
      "source": [
        "# definición de variables\n",
        "numeros = [1, 2, 3, 4, 5]\n",
        "\n",
        "# uso del break\n",
        "for ... in ...:\n",
        "    if ...:\n",
        "        break  # Sale del bucle cuando numero es 3\n",
        "    ...\n",
        "\n",
        "# uso del continue\n",
        "for ... in ...:\n",
        "    if ...:\n",
        "        continue  # Salta a la siguiente iteración cuando numero es par\n",
        "    ..."
      ],
      "metadata": {
        "id": "OdKHiuh9MEKm"
      },
      "execution_count": null,
      "outputs": []
    },
    {
      "cell_type": "markdown",
      "source": [
        "*   __Bucle While__: El bucle __while__ son estructuras de control de flujo que permiten ejecutar repetidamente un bloque de código mientras se cumpla una condición específica. La estructura básica de un bucle while es la siguiente:"
      ],
      "metadata": {
        "id": "wdq1a2XvVOnP"
      }
    },
    {
      "cell_type": "code",
      "source": [
        "# while condición:\n",
        "    ## bloque de código a ejecutar mientras la condición sea verdadera"
      ],
      "metadata": {
        "id": "NdGCz3JxVepK"
      },
      "execution_count": null,
      "outputs": []
    },
    {
      "cell_type": "markdown",
      "source": [
        "El flujo de control funciona de la siguiente manera: primero, se evalúa la condición. Si la condición es verdadera (`True`), se ejecuta el bloque de código dentro del `while`. Después de ejecutar el bloque de código, se vuelve a evaluar la condición. Este proceso se repite hasta que la condición se vuelve falsa (`False`). Por ejemplo en Python:"
      ],
      "metadata": {
        "id": "yJ_8OVVsVo3m"
      }
    },
    {
      "cell_type": "code",
      "source": [
        "# definición de variable\n",
        "i = 0\n",
        "\n",
        "# iteración con el bucle while\n",
        "while ...:\n",
        "    ...\n",
        "    ..."
      ],
      "metadata": {
        "id": "KbT-QzBdV09G"
      },
      "execution_count": null,
      "outputs": []
    },
    {
      "cell_type": "markdown",
      "source": [
        "Tambíen, dentro de un bucle `while`, se pueden usar las declaraciones `break` y `continue` para controlar el flujo del bucle. Por ejemplo"
      ],
      "metadata": {
        "id": "mYnkvDuPWH9d"
      }
    },
    {
      "cell_type": "code",
      "source": [
        "# definición de variable\n",
        "i = 0\n",
        "\n",
        "# uso del break\n",
        "while ...:\n",
        "    if ...:\n",
        "        break  # Sale del bucle cuando i es 5\n",
        "    ...\n",
        "    ...\n",
        "\n",
        "i = 0\n",
        "\n",
        "# uso del continue\n",
        "while ...:\n",
        "    ...\n",
        "    if ...:\n",
        "        continue  # Salta a la siguiente iteración cuando i es par\n",
        "   ..."
      ],
      "metadata": {
        "id": "oV-wERYGWWVt"
      },
      "execution_count": null,
      "outputs": []
    },
    {
      "cell_type": "markdown",
      "source": [
        "1.3.10 **Funciones en python**\n",
        "\n",
        "Las funciones en Python son bloques de código diseñados para realizar tareas específicas y se pueden reutilizar en diferentes partes del programa. Definir y usar funciones te permite organizar tu código de manera más efectiva y reducir la redundancia."
      ],
      "metadata": {
        "id": "E8yg6nNjpPrz"
      }
    },
    {
      "cell_type": "markdown",
      "source": [
        "1.   **Definición de una función**: Una __función__ se define utilizando la palabra clave `def`, seguida del nombre de la función y un paréntesis que puede contener parámetros. Dentro del bloque de código de la función, se especifican las instrucciones que se ejecutarán cuando se llame a la función."
      ],
      "metadata": {
        "id": "x0cMB-UAtwp2"
      }
    },
    {
      "cell_type": "code",
      "source": [
        "# Ejemplo"
      ],
      "metadata": {
        "id": "TZHfl_Q6uChh"
      },
      "execution_count": null,
      "outputs": []
    },
    {
      "cell_type": "markdown",
      "source": [
        "**Observación**: Las variables creadas dentro de una función son variables locales (son válidas dentro de la función donde se usan)."
      ],
      "metadata": {
        "id": "j_GrftEJztSP"
      }
    },
    {
      "cell_type": "markdown",
      "source": [
        "2.   **Llamada a la función**: Para ejecutar el código dentro de una función, se llama a la función por su nombre y se pasan los argumentos necesarios, si los hay."
      ],
      "metadata": {
        "id": "dfaBlsWttpFj"
      }
    },
    {
      "cell_type": "code",
      "source": [
        "# Ejemplo"
      ],
      "metadata": {
        "id": "ZM7Phx_1un86"
      },
      "execution_count": null,
      "outputs": []
    },
    {
      "cell_type": "markdown",
      "source": [
        "3.   **Funciones con parámetros por defecto**: Las funciones pueden tener parámetros con valores predeterminados. Si el usuario no proporciona un argumento para ese parámetro, se utilizará el valor predeterminado."
      ],
      "metadata": {
        "id": "Vzr2-0yBvFqF"
      }
    },
    {
      "cell_type": "code",
      "source": [
        "# Ejemplo"
      ],
      "metadata": {
        "id": "OSXFg9FVvFEE"
      },
      "execution_count": null,
      "outputs": []
    },
    {
      "cell_type": "markdown",
      "source": [
        "4.   **Funciones con múltiples parámetros**: Una función puede aceptar múltiples parámetros y realizar operaciones con ellos."
      ],
      "metadata": {
        "id": "jftb9BSZvopI"
      }
    },
    {
      "cell_type": "code",
      "source": [
        "# Ejemplo"
      ],
      "metadata": {
        "id": "YwtsicF0xVkx"
      },
      "execution_count": null,
      "outputs": []
    },
    {
      "cell_type": "markdown",
      "source": [
        "5.   **Funciones Anónimas (Lambdas)**: En Python, las funciones pequeñas y sin nombre se pueden crear usando la palabra clave `lambda`. Estas funciones son útiles para operaciones simples."
      ],
      "metadata": {
        "id": "I5khHxsyxdVc"
      }
    },
    {
      "cell_type": "code",
      "source": [
        "# Ejemplo"
      ],
      "metadata": {
        "id": "RTMXUjL8xlVI"
      },
      "execution_count": null,
      "outputs": []
    },
    {
      "cell_type": "markdown",
      "source": [
        "6. **Funciones Recursivas**: Una función recursiva es aquella que se llama a sí misma para resolver un problema. Es importante definir una condición de parada para evitar una recursión infinita."
      ],
      "metadata": {
        "id": "3PoSVUMdxsaR"
      }
    },
    {
      "cell_type": "code",
      "source": [
        "# Ejemplo"
      ],
      "metadata": {
        "id": "aqw_GjoxxxvH"
      },
      "execution_count": null,
      "outputs": []
    },
    {
      "cell_type": "markdown",
      "source": [
        "7.  **Funciones Internas**: Python incluye una serie de funciones integradas que facilitan tareas comunes. Estas funciones están disponibles por defecto y no requieren importación adicional. Algunas de estas funciones internas son `len()`, `max()`, `min()`, etc., se llaman directamente con su nombre y los argumentos necesarios entre paréntesis. Estas funciones están disponibles globalmente en Python y no pertenecen a un objeto específico. Aquí puedes encontrar más funciones internas de python. Aquí tienes un enlace a la documentación oficial de Python sobre funciones integradas [built-in functions](https://docs.python.org/3/library/functions.html)."
      ],
      "metadata": {
        "id": "ObOsFvQKx2nr"
      }
    },
    {
      "cell_type": "markdown",
      "source": [
        "## **1.4 Uso de estructuras de datos básicas (vectores, listas, matrices, diccionarios)**"
      ],
      "metadata": {
        "id": "0rsZhqOf3q0g"
      }
    },
    {
      "cell_type": "markdown",
      "source": [
        "1.4.1 **Vectores**\n",
        "\n",
        "Un __vector__ es una secuencia ordenada de elementos, que pueden ser números, caracteres o cualquier otro tipo de dato. En Python, los vectores se pueden implementar utilizando listas.\n",
        "\n",
        "Las características de un vector son:\n",
        "\n",
        "*   **Ordenados**: Los elementos tienen un orden definido.\n",
        "*   **Indexados**: Cada elemento tiene una posición (índice) en el vector\n",
        "\n",
        "Algunas operaciones comunes:\n",
        "\n",
        "*  __Acceso a elementos por índice__:"
      ],
      "metadata": {
        "id": "phYOg3Dv8_2K"
      }
    },
    {
      "cell_type": "code",
      "source": [
        "# Crear un vector\n",
        "...\n",
        "\n",
        "# Acceder al primer elemento (índice 0)\n",
        "...\n",
        "\n",
        "# Acceder al tercer elemento (índice 2)\n",
        "..."
      ],
      "metadata": {
        "id": "Ez6HUnLfpFTV"
      },
      "execution_count": null,
      "outputs": []
    },
    {
      "cell_type": "markdown",
      "source": [
        "*   __Modificación de elementos__:"
      ],
      "metadata": {
        "id": "T0V0JroykHQY"
      }
    },
    {
      "cell_type": "code",
      "source": [
        "# Crear un vector\n",
        "vector = [10, 20, 30, 40, 50]\n",
        "\n",
        "# Modificar el segundo elemento (índice 1)\n",
        "...\n",
        "...  # Output: [10, 25, 30, 40, 50]"
      ],
      "metadata": {
        "id": "hFVt40dskO20"
      },
      "execution_count": null,
      "outputs": []
    },
    {
      "cell_type": "markdown",
      "source": [
        "*   **Suma, resta, multiplicación y división de vectores**:\n",
        "En programación científica, estas operaciones a menudo se realizan utilizando bibliotecas como `NumPy` para una mayor eficiencia y facilidad. Por ejemplo:"
      ],
      "metadata": {
        "id": "y89HbpIpkYE-"
      }
    },
    {
      "cell_type": "code",
      "source": [
        "# importar biblioteca\n",
        "import numpy as np\n",
        "\n",
        "# Crear dos vectores (arrays de NumPy)\n",
        "vector1 = ...\n",
        "vector2 = ...\n",
        "\n",
        "# Suma de vectores\n",
        "suma = ...\n",
        "print(\"Suma:\", suma)  # Output: [5 7 9]\n",
        "\n",
        "# Resta de vectores\n",
        "resta = ...\n",
        "print(\"Resta:\", resta)  # Output: [-3 -3 -3]\n",
        "\n",
        "# Multiplicación de vectores\n",
        "multiplicacion =...\n",
        "print(\"Multiplicación:\", multiplicacion)  # Output: [ 4 10 18]\n",
        "\n",
        "# División de vectores\n",
        "division = ...\n",
        "print(\"División:\", division)  # Output: [0.25 0.4  0.5 ]"
      ],
      "metadata": {
        "id": "-HpbVHmzkrSH"
      },
      "execution_count": null,
      "outputs": []
    },
    {
      "cell_type": "markdown",
      "source": [
        "*   **Agregar elementos a un vector**:"
      ],
      "metadata": {
        "id": "OYK7Pu62lN7i"
      }
    },
    {
      "cell_type": "code",
      "source": [
        "# Crear un vector\n",
        "vector = [10, 20, 30]\n",
        "\n",
        "# Agregar un nuevo elemento al final del vector\n",
        "...\n",
        "...  # Output: [10, 20, 30, 40]"
      ],
      "metadata": {
        "id": "0Zz55lB8lMq3"
      },
      "execution_count": null,
      "outputs": []
    },
    {
      "cell_type": "markdown",
      "source": [
        "1.4.2 **Listas**\n",
        "\n",
        "Las __listas__ en Python son estructuras de datos que pueden almacenar una colección ordenada de elementos, los cuales pueden ser de diferentes tipos. Las listas son dinámicas, lo que significa que pueden crecer o reducirse según sea necesario.\n",
        "\n",
        "Las características de una lista son:\n",
        "* **Mutables**: Los elementos pueden ser modificados después de la creación de la lista.\n",
        "* **Heterogéneas**: Pueden contener diferentes tipos de datos.\n",
        "* **Anidadas**: Pueden contener otras listas como elementos.\n",
        "\n",
        "Algunas operaciones comunes son:"
      ],
      "metadata": {
        "id": "86TS-zNRlyO2"
      }
    },
    {
      "cell_type": "markdown",
      "source": [
        "* **Añadir elementos**:"
      ],
      "metadata": {
        "id": "dAGRvSqfsML1"
      }
    },
    {
      "cell_type": "code",
      "source": [
        "# crear lista\n",
        "lista = [1, 2, 3]\n",
        "\n",
        "# append(): Añade un solo elemento al final de la lista\n",
        "...\n",
        "print(lista)  # Output: [1, 2, 3, 4]\n",
        "\n",
        "# extend(): Añade múltiples elementos al final de la lista\n",
        "...\n",
        "print(lista)  # Output: [1, 2, 3, 4, 5, 6]"
      ],
      "metadata": {
        "id": "ocCnD-mTrvV4"
      },
      "execution_count": null,
      "outputs": []
    },
    {
      "cell_type": "markdown",
      "source": [
        "* **Eliminar elementos**:\n",
        "\n"
      ],
      "metadata": {
        "id": "B_bz2xUtuI9R"
      }
    },
    {
      "cell_type": "code",
      "source": [
        "# crear lista\n",
        "lista = [1, 2, 3, 4]\n",
        "\n",
        "# remove(): Elimina la primera aparición de un valor en la lista.\n",
        "...\n",
        "print(lista)  # Output: [1, 3, 4]\n",
        "\n",
        "# pop(): Elimina y devuelve el elemento en el índice especificado (por defecto, el último)\n",
        "...\n",
        "print(elemento)  # Output: 4\n",
        "print(lista)  # Output: [1, 2, 3]\n",
        "\n",
        "...\n",
        "print(elemento)  # Output: 2\n",
        "print(lista)  # Output: [1, 3]"
      ],
      "metadata": {
        "colab": {
          "base_uri": "https://localhost:8080/"
        },
        "id": "g53z3c5Fu1Mg",
        "outputId": "3a3b4c63-8259-4bab-b76f-72e9f5440718"
      },
      "execution_count": null,
      "outputs": [
        {
          "output_type": "stream",
          "name": "stdout",
          "text": [
            "[1, 3, 4]\n"
          ]
        }
      ]
    },
    {
      "cell_type": "markdown",
      "source": [
        "*   **Ordenar elementos**:\n",
        "\n",
        "\n"
      ],
      "metadata": {
        "id": "SXKvUZKDwDPe"
      }
    },
    {
      "cell_type": "code",
      "source": [
        "# crear lista\n",
        "lista = [4, 2, 3, 1]\n",
        "\n",
        "# sort(): Ordena los elementos de la lista en su lugar.\n",
        "...\n",
        "print(lista)  # Output: [1, 2, 3, 4]\n",
        "\n",
        "# sorted(): Devuelve una nueva lista ordenada sin modificar la original.\n",
        "lista_ordenada = ...\n",
        "print(lista_ordenada)  # Output: [1, 2, 3, 4]"
      ],
      "metadata": {
        "id": "sR8rciXYwPiS"
      },
      "execution_count": null,
      "outputs": []
    },
    {
      "cell_type": "markdown",
      "source": [
        "*   **Acceder a elementos por índice:**\n"
      ],
      "metadata": {
        "id": "5X9yhN8bwpzU"
      }
    },
    {
      "cell_type": "code",
      "source": [
        "# crear lista\n",
        "lista = ['a', 'b', 'c', 'd']\n",
        "\n",
        "..."
      ],
      "metadata": {
        "id": "DiNoilVxw6Gc"
      },
      "execution_count": null,
      "outputs": []
    },
    {
      "cell_type": "markdown",
      "source": [
        "* **Modificar elementos**:"
      ],
      "metadata": {
        "id": "ctfAVatWyiOI"
      }
    },
    {
      "cell_type": "code",
      "source": [
        "# crear lista\n",
        "lista = [10, 20, 30, 40]\n",
        "\n",
        "...\n",
        "print(lista)  # Output: [10, 25, 30, 40]"
      ],
      "metadata": {
        "id": "rDIcq7EWypMx"
      },
      "execution_count": null,
      "outputs": []
    },
    {
      "cell_type": "markdown",
      "source": [
        "1.4.3 **Matrices**\n",
        "\n",
        "Las __matrices__ son arreglos rectangulares de elementos, es decir,\n",
        "\n",
        "$$\n",
        "A = \\left(\\begin{matrix}\n",
        "a_{11} & a_{12} & ⋯ & a_{1n}\\\\\n",
        "a_{21} & a_{22} & ⋯ & a_{2n}\\\\\n",
        "\\vdots & \\vdots & \\ddots & \\vdots\\\\\n",
        "a_{m1} & a_{m2} & ⋯ & a_{mn}\\\\\n",
        "\\end{matrix}\n",
        "\\right)_{m \\times n}\n",
        "$$\n",
        "\n",
        "donde $m$ es el número de filas y $n$ es el número de columnas\n",
        "\n",
        "En Python, las matrices pueden ser implementadas usando listas de listas o utilizando bibliotecas como __NumPy__, que proporciona una funcionalidad más eficiente para el manejo de matrices.\n",
        "\n"
      ],
      "metadata": {
        "id": "B6LosZFf4JqR"
      }
    }
  ]
}